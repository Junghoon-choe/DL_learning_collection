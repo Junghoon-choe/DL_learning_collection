{
 "cells": [
  {
   "cell_type": "code",
   "execution_count": 1,
   "metadata": {},
   "outputs": [],
   "source": [
    "import torch\n",
    "import torch.nn as nn\n",
    "import numpy as np\n",
    "import matplotlib.pyplot as plt\n",
    "import warnings # 에러를 제거하는 라이브러리\n",
    "warnings.filterwarnings('ignore')"
   ]
  },
  {
   "cell_type": "markdown",
   "metadata": {},
   "source": [
    "### Hyper-Parameters Setting"
   ]
  },
  {
   "cell_type": "code",
   "execution_count": 2,
   "metadata": {},
   "outputs": [],
   "source": [
    "input_size = 1 # 1차원을 의미한다\n",
    "output_size = 1 # 1차원을 의미한다.\n",
    "num_epochs = 100 # 100번 학습하겠다는 의미이다.\n",
    "learning_rate = 0.001 # 0.001이 가장 대표적인 값이다 "
   ]
  },
  {
   "cell_type": "code",
   "execution_count": 3,
   "metadata": {},
   "outputs": [
    {
     "data": {
      "text/plain": [
       "array([[1.7  ],\n",
       "       [2.76 ],\n",
       "       [2.09 ],\n",
       "       [3.19 ],\n",
       "       [1.694],\n",
       "       [1.573],\n",
       "       [3.366],\n",
       "       [2.596],\n",
       "       [2.53 ],\n",
       "       [1.221],\n",
       "       [2.827],\n",
       "       [3.465],\n",
       "       [1.65 ],\n",
       "       [2.904],\n",
       "       [1.3  ]], dtype=float32)"
      ]
     },
     "execution_count": 3,
     "metadata": {},
     "output_type": "execute_result"
    }
   ],
   "source": [
    "# Toy dataset\n",
    "x_train = np.array([[3.3], [4.4], [5.5], [6.71], [6.93], [4.168], \n",
    "                    [9.779], [6.182], [7.59], [2.167], [7.042], \n",
    "                    [10.791], [5.313], [7.997], [3.1]], dtype=np.float32)\n",
    "\n",
    "y_train = np.array([[1.7], [2.76], [2.09], [3.19], [1.694], [1.573], \n",
    "                    [3.366], [2.596], [2.53], [1.221], [2.827], \n",
    "                    [3.465], [1.65], [2.904], [1.3]], dtype=np.float32)\n",
    "\n",
    "x_train\n",
    "y_train"
   ]
  },
  {
   "cell_type": "code",
   "execution_count": 4,
   "metadata": {},
   "outputs": [
    {
     "name": "stdout",
     "output_type": "stream",
     "text": [
      "(15, 1)\n",
      "(15, 1)\n"
     ]
    }
   ],
   "source": [
    "print(x_train.shape)\n",
    "print(y_train.shape)"
   ]
  },
  {
   "cell_type": "markdown",
   "metadata": {},
   "source": [
    "### Model Generation"
   ]
  },
  {
   "cell_type": "code",
   "execution_count": 5,
   "metadata": {},
   "outputs": [],
   "source": [
    "# Linear = FCN 선으로 이어줌으로 fully connected net이다.\n",
    "model = nn.Linear(input_size, output_size)"
   ]
  },
  {
   "cell_type": "code",
   "execution_count": 6,
   "metadata": {},
   "outputs": [],
   "source": [
    "# 1. 모델, Loss Function, Optimizer 선정의\n",
    "loss_function = nn.MSELoss()\n",
    "optimizer = torch.optim.SGD(model.parameters(), lr=learning_rate)"
   ]
  },
  {
   "cell_type": "markdown",
   "metadata": {},
   "source": [
    "### Training Model"
   ]
  },
  {
   "cell_type": "code",
   "execution_count": 7,
   "metadata": {},
   "outputs": [
    {
     "name": "stdout",
     "output_type": "stream",
     "text": [
      "Epoch : [5/100], Loss : 25.7021\n",
      "******************************\n",
      "Epoch : [5/100], Loss : 25.7021\n",
      "******************************\n",
      "Epoch : [10/100], Loss : 10.5176\n",
      "******************************\n",
      "Epoch : [10/100], Loss : 10.5176\n",
      "******************************\n",
      "Epoch : [15/100], Loss : 4.3662\n",
      "******************************\n",
      "Epoch : [15/100], Loss : 4.3662\n",
      "******************************\n",
      "Epoch : [20/100], Loss : 1.8741\n",
      "******************************\n",
      "Epoch : [20/100], Loss : 1.8741\n",
      "******************************\n",
      "Epoch : [25/100], Loss : 0.8645\n",
      "******************************\n",
      "Epoch : [25/100], Loss : 0.8645\n",
      "******************************\n",
      "Epoch : [30/100], Loss : 0.4555\n",
      "******************************\n",
      "Epoch : [30/100], Loss : 0.4555\n",
      "******************************\n",
      "Epoch : [35/100], Loss : 0.2898\n",
      "******************************\n",
      "Epoch : [35/100], Loss : 0.2898\n",
      "******************************\n",
      "Epoch : [40/100], Loss : 0.2226\n",
      "******************************\n",
      "Epoch : [40/100], Loss : 0.2226\n",
      "******************************\n",
      "Epoch : [45/100], Loss : 0.1954\n",
      "******************************\n",
      "Epoch : [45/100], Loss : 0.1954\n",
      "******************************\n",
      "Epoch : [50/100], Loss : 0.1844\n",
      "******************************\n",
      "Epoch : [50/100], Loss : 0.1844\n",
      "******************************\n",
      "Epoch : [55/100], Loss : 0.1799\n",
      "******************************\n",
      "Epoch : [55/100], Loss : 0.1799\n",
      "******************************\n",
      "Epoch : [60/100], Loss : 0.1781\n",
      "******************************\n",
      "Epoch : [60/100], Loss : 0.1781\n",
      "******************************\n",
      "Epoch : [65/100], Loss : 0.1773\n",
      "******************************\n",
      "Epoch : [65/100], Loss : 0.1773\n",
      "******************************\n",
      "Epoch : [70/100], Loss : 0.1770\n",
      "******************************\n",
      "Epoch : [70/100], Loss : 0.1770\n",
      "******************************\n",
      "Epoch : [75/100], Loss : 0.1768\n",
      "******************************\n",
      "Epoch : [75/100], Loss : 0.1768\n",
      "******************************\n",
      "Epoch : [80/100], Loss : 0.1768\n",
      "******************************\n",
      "Epoch : [80/100], Loss : 0.1768\n",
      "******************************\n",
      "Epoch : [85/100], Loss : 0.1767\n",
      "******************************\n",
      "Epoch : [85/100], Loss : 0.1767\n",
      "******************************\n",
      "Epoch : [90/100], Loss : 0.1767\n",
      "******************************\n",
      "Epoch : [90/100], Loss : 0.1767\n",
      "******************************\n",
      "Epoch : [95/100], Loss : 0.1767\n",
      "******************************\n",
      "Epoch : [95/100], Loss : 0.1767\n",
      "******************************\n",
      "Epoch : [100/100], Loss : 0.1767\n",
      "******************************\n",
      "Epoch : [100/100], Loss : 0.1767\n",
      "******************************\n"
     ]
    }
   ],
   "source": [
    "for epoch in range(num_epochs):# 모델을 넣기전 텐서로 변형해서 넣어줘야한다.\n",
    "    inputs = torch.from_numpy(x_train)\n",
    "    targets = torch.from_numpy(y_train)\n",
    "    \n",
    "    # Forward Propagation\n",
    "    # 2. 입력값을 넣어서 모델 돌린 결과로 예측값 출력 - pred = model(x)\n",
    "    pred = model(inputs)\n",
    "    \n",
    "    # 3. Loss값 출력 - loss = loss_function(pred, targets)\n",
    "    loss = loss_function(pred, targets) \n",
    "    \n",
    "    # Back Propagation\n",
    "    optimizer.zero_grad() # 항상 초기화 진행을 시켜야 한다.\n",
    "    # 4. BackPropagation - loss.backward()\n",
    "    # 편미분이 돌아감 Loss값에 따른 w,b값의 미분한값 아직 학습진행은 안됨. \n",
    "    loss.backward() # W = dL/dW, b = dL/db 편미분됨.\n",
    "    # 5. 학습 진행 - optimizer.step()\n",
    "    optimizer.step() # (편미분이 되었으므로, 그값을 저장시켜야 하니까) 학습을 시켜준다.\n",
    "    \n",
    "    \n",
    "    if (epoch+1) % 5 == 0:\n",
    "        print(f'Epoch : [{epoch+1}/{num_epochs}], Loss : {loss.item():.4f}')\n",
    "        print('*'*30)\n",
    "    if (epoch+1) % 5 == 0:\n",
    "        print('Epoch : [{}/{}], Loss : {:.4f}'.format(epoch+1, num_epochs, loss.item()))\n",
    "        print('*'*30)"
   ]
  },
  {
   "cell_type": "markdown",
   "metadata": {},
   "source": [
    "### DeepLearning Code Processing\n",
    "    1. 모델, Loss Function, Optimizer 선정의\n",
    "    2. 입력값을 넣어서 모델 돌린 결과로 예측값 출력 - pred = model(x)\n",
    "    3. Loss값 출력 - loss = loss_function(pred, targets)\n",
    "    4. BackPropagation - loss.backward()\n",
    "    5. 학습 진행 - optimizer.step()\n",
    "    \n",
    "    앞으로 배우게될 모든 코드가 다 위의 패턴을 따른다."
   ]
  },
  {
   "cell_type": "markdown",
   "metadata": {},
   "source": [
    "### Visualization"
   ]
  },
  {
   "cell_type": "markdown",
   "metadata": {},
   "source": [
    "    중요~! 넘파이 >> 토치타입 바꾸어야함\n",
    "    detect을 해줘야함"
   ]
  },
  {
   "cell_type": "code",
   "execution_count": 8,
   "metadata": {},
   "outputs": [
    {
     "data": {
      "image/png": "[encoded data removed]",
      "text/plain": [
       "<Figure size 432x288 with 1 Axes>"
      ]
     },
     "metadata": {
      "needs_background": "light"
     },
     "output_type": "display_data"
    }
   ],
   "source": [
    "predicted = model(torch.from_numpy(x_train)).detach().numpy()\n",
    "plt.plot(x_train, y_train, 'ro', label='Original Data') # 트레이닝 값\n",
    "plt.plot(x_train, predicted, label='Fitted Data') # 예측한 값\n",
    "plt.legend() # 라벨을 나오게 한다.\n",
    "plt.show()\n",
    "\n",
    "# Save the Model Value ... ckpt\n",
    "torch.save(model.state_dict(),'model.ckpt') # 모델의 weight값을 저장한다."
   ]
  },
  {
   "attachments": {
    "image.png": {
     "image/png": "[encoded data removed]"
    }
   },
   "cell_type": "markdown",
   "metadata": {},
   "source": [
    "![image.png](attachment:image.png)  \n",
    "위와같이 파일이 저장된다."
   ]
  },
  {
   "cell_type": "code",
   "execution_count": null,
   "metadata": {},
   "outputs": [],
   "source": []
  }
 ],
 "metadata": {
  "kernelspec": {
   "display_name": "Python 3",
   "language": "python",
   "name": "python3"
  },
  "language_info": {
   "codemirror_mode": {
    "name": "ipython",
    "version": 3
   },
   "file_extension": ".py",
   "mimetype": "text/x-python",
   "name": "python",
   "nbconvert_exporter": "python",
   "pygments_lexer": "ipython3",
   "version": "3.8.5"
  }
 },
 "nbformat": 4,
 "nbformat_minor": 4
}
