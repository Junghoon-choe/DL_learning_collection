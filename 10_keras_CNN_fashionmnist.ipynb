{
 "cells": [
  {
   "cell_type": "code",
   "execution_count": 1,
   "metadata": {
    "id": "_Y83IT-yrMUI"
   },
   "outputs": [],
   "source": [
    "import numpy as np\n",
    "from keras import models, layers, datasets, backend\n",
    "from keras.utils import np_utils\n",
    "import matplotlib.pyplot as plt\n",
    "import numpy as np\n",
    "import keras"
   ]
  },
  {
   "cell_type": "code",
   "execution_count": 2,
   "metadata": {
    "id": "Up8B4Q1Lrvj3"
   },
   "outputs": [],
   "source": [
    "(X_train, y_train),(X_test, y_test) = datasets.fashion_mnist.load_data()"
   ]
  },
  {
   "cell_type": "code",
   "execution_count": 3,
   "metadata": {
    "colab": {
     "base_uri": "https://localhost:8080/",
     "height": 283
    },
    "id": "GOLIJgXfr3Hf",
    "outputId": "873e6857-8ca5-4820-e129-b939c74b9266"
   },
   "outputs": [
    {
     "data": {
      "text/plain": [
       "<matplotlib.image.AxesImage at 0x7fcf8dd53a90>"
      ]
     },
     "execution_count": 3,
     "metadata": {
      "tags": []
     },
     "output_type": "execute_result"
    },
    {
     "data": {
      "image/png": "[encoded data removed]",
      "text/plain": [
       "<Figure size 432x288 with 1 Axes>"
      ]
     },
     "metadata": {
      "needs_background": "light",
      "tags": []
     },
     "output_type": "display_data"
    }
   ],
   "source": [
    "plt.imshow(X_train[0])"
   ]
  },
  {
   "cell_type": "code",
   "execution_count": 4,
   "metadata": {
    "id": "7IoWccvVr-Bp"
   },
   "outputs": [],
   "source": [
    "num_classes = 10\n",
    "num_batch_size = 100\n",
    "num_epochs = 50\n",
    "validation_split = 0.1"
   ]
  },
  {
   "cell_type": "code",
   "execution_count": 5,
   "metadata": {
    "colab": {
     "base_uri": "https://localhost:8080/"
    },
    "id": "Vg7zN04RsE7R",
    "outputId": "1c8c7452-77f6-43dc-8c83-b167ee35bf9b"
   },
   "outputs": [
    {
     "name": "stdout",
     "output_type": "stream",
     "text": [
      "(60000, 28, 28)\n",
      "(28, 28)\n"
     ]
    }
   ],
   "source": [
    "'''\n",
    "cnn을 다룰때는 1차원으로 값을 펼치지 않고, 이미지를 통으로 넣기 때문에\n",
    "채널이 중요하다\n",
    "흑백이미지라도 1이라는 값을 넣어줘야한다.\n",
    "채널을 표현하는 방법\n",
    "1) channel First 1,28,28\n",
    "2) channel Last  28,28,1\n",
    "\n",
    "여기서는 channel Last로 되어있다... ToTensor를 안 써주므로, 기존 값인 channel로 되어있고,\n",
    "이것(채널)을 알아내는 방법은 backend로 알아 볼 수 있다.\n",
    "'''\n",
    "print(X_train.shape)\n",
    "print(X_train.shape[1:])\n",
    "img_rows, img_cols = X_train.shape[1:]"
   ]
  },
  {
   "cell_type": "code",
   "execution_count": 6,
   "metadata": {
    "colab": {
     "base_uri": "https://localhost:8080/",
     "height": 35
    },
    "id": "TVvNKbQLsImh",
    "outputId": "acf871d4-8c8c-4cb6-da64-f197461c4c3d"
   },
   "outputs": [
    {
     "data": {
      "application/vnd.google.colaboratory.intrinsic+json": {
       "type": "string"
      },
      "text/plain": [
       "'channels_last'"
      ]
     },
     "execution_count": 6,
     "metadata": {
      "tags": []
     },
     "output_type": "execute_result"
    }
   ],
   "source": [
    "channel = backend.image_data_format()\n",
    "channel # 이를 통해서 backend로 알아 볼 수 있다."
   ]
  },
  {
   "cell_type": "code",
   "execution_count": 7,
   "metadata": {
    "id": "3mArPTlfsKp_"
   },
   "outputs": [],
   "source": [
    "if backend.image_data_format == 'chennel_first':\n",
    "  X_train = X_train.reshape(X_train.shape[0], 1, img_rows, img_cols)\n",
    "  X_test = X_test.reshape(X_test.shape[0], 1, img_rows, img_cols)\n",
    "\n",
    "  input_shape = (1, img_rows, img_cols)\n",
    "\n",
    "else:\n",
    "  X_train = X_train.reshape(X_train.shape[0], img_rows, img_cols, 1)\n",
    "  X_test = X_test.reshape(X_test.shape[0], img_rows, img_cols, 1)\n",
    "\n",
    "  input_shape = (img_rows, img_cols, 1)"
   ]
  },
  {
   "cell_type": "code",
   "execution_count": 8,
   "metadata": {
    "id": "6O2SSMpwsMj5"
   },
   "outputs": [],
   "source": [
    "X_train = X_train/255\n",
    "X_test = X_test/255\n",
    "\n",
    "Y_train = keras.utils.to_categorical(y_train, num_classes)\n",
    "Y_test = keras.utils.to_categorical(y_test, num_classes)"
   ]
  },
  {
   "cell_type": "code",
   "execution_count": 9,
   "metadata": {
    "id": "rdhXUf6KTzIz"
   },
   "outputs": [],
   "source": [
    "# model = keras.Sequential()\n",
    "\n",
    "# # [first] CONV => RELU => CONV => RELU\n",
    "# model.add(layers.Conv2D(32, kernel_size=(3,3), padding='same', input_shape = input_shape)) \n",
    "# model.add(layers.BatchNormalization())\n",
    "# model.add(layers.Activation('relu'))\n",
    "\n",
    "# model.add(layers.Conv2D(32, kernel_size=(3,3), padding='same'))  \n",
    "# model.add(layers.BatchNormalization())\n",
    "# model.add(layers.Activation('relu'))\n",
    "# model.add(layers.Dropout(0.2))\n",
    "\n",
    "# # [second] POOL layer set => CONV => RELU => CONV => RELU\n",
    "# model.add(layers.MaxPool2D(pool_size=(2,2)))\n",
    "# model.add(layers.Conv2D(64, kernel_size=(3,3), padding='same'))  \n",
    "# model.add(layers.BatchNormalization())\n",
    "# model.add(layers.Activation('relu'))\n",
    "# model.add(layers.Conv2D(64, kernel_size=(3,3), padding='same'))  \n",
    "# model.add(layers.BatchNormalization())\n",
    "# model.add(layers.Activation('relu'))\n",
    "\n",
    "# model.add(layers.MaxPool2D(pool_size=(2,2)))\n",
    "# model.add(layers.Conv2D(64, kernel_size=(3,3), padding='same'))  \n",
    "# model.add(layers.BatchNormalization())\n",
    "# model.add(layers.Activation('relu'))\n",
    "# model.add(layers.Dropout(0.2))\n",
    "\n",
    "# model.add(layers.MaxPool2D(pool_size=(2,2)))\n",
    "# model.add(layers.Conv2D(128, kernel_size=(3,3), padding='same'))  \n",
    "# model.add(layers.BatchNormalization())\n",
    "# model.add(layers.Activation('relu'))\n",
    "# model.add(layers.Dropout(0.2))\n",
    "\n",
    "# # [third] POOL layer set => CONV => RELU => CONV => RELU\n",
    "# # model.add(layers.MaxPool2D(pool_size=(2,2)))\n",
    "# # model.add(layers.Conv2D(128, kernel_size=(3,3), padding='same'))  \n",
    "# # model.add(layers.BatchNormalization())\n",
    "# # model.add(layers.Activation('relu'))\n",
    "\n",
    "# # model.add(layers.Conv2D(128, kernel_size=(3,3), padding='same'))  \n",
    "# # model.add(layers.BatchNormalization())\n",
    "# # model.add(layers.Activation('relu'))\n",
    "# # model.add(layers.Dropout(0.25))\n",
    "\n",
    "# model.add(layers.Flatten())\n",
    "# model.add(layers.Dense(512))\n",
    "# model.add(layers.BatchNormalization())\n",
    "# model.add(layers.Activation('relu'))\n",
    "\n",
    "\n",
    "# # model.add(layers.Dense(256)) \n",
    "# # model.add(layers.BatchNormalization())\n",
    "# # model.add(layers.Activation('relu'))\n",
    "# # model.add(layers.Dropout(0.25))\n",
    "\n",
    "# model.add(layers.Dense(64)) \n",
    "# model.add(layers.BatchNormalization())\n",
    "# model.add(layers.Activation('relu'))\n",
    "# model.add(layers.Dropout(0.5))\n",
    "\n",
    "# # model.add(layers.Dense(32)) \n",
    "# # model.add(layers.BatchNormalization())\n",
    "# # model.add(layers.Activation('relu'))\n",
    "\n",
    "# model.add(layers.Dense(num_classes, activation='softmax'))\n",
    "# model.summary() # 표로 전체적인 결과값을 볼수 있다."
   ]
  },
  {
   "cell_type": "code",
   "execution_count": 10,
   "metadata": {
    "colab": {
     "base_uri": "https://localhost:8080/"
    },
    "id": "NpjRhSqX0OGP",
    "outputId": "6771ecb0-fe39-4188-880c-c3f3c7faa280"
   },
   "outputs": [
    {
     "name": "stdout",
     "output_type": "stream",
     "text": [
      "Model: \"sequential\"\n",
      "_________________________________________________________________\n",
      "Layer (type)                 Output Shape              Param #   \n",
      "=================================================================\n",
      "conv2d (Conv2D)              (None, 28, 28, 32)        320       \n",
      "_________________________________________________________________\n",
      "batch_normalization (BatchNo (None, 28, 28, 32)        128       \n",
      "_________________________________________________________________\n",
      "activation (Activation)      (None, 28, 28, 32)        0         \n",
      "_________________________________________________________________\n",
      "conv2d_1 (Conv2D)            (None, 28, 28, 32)        9248      \n",
      "_________________________________________________________________\n",
      "batch_normalization_1 (Batch (None, 28, 28, 32)        128       \n",
      "_________________________________________________________________\n",
      "activation_1 (Activation)    (None, 28, 28, 32)        0         \n",
      "_________________________________________________________________\n",
      "dropout (Dropout)            (None, 28, 28, 32)        0         \n",
      "_________________________________________________________________\n",
      "conv2d_2 (Conv2D)            (None, 28, 28, 64)        18496     \n",
      "_________________________________________________________________\n",
      "batch_normalization_2 (Batch (None, 28, 28, 64)        256       \n",
      "_________________________________________________________________\n",
      "activation_2 (Activation)    (None, 28, 28, 64)        0         \n",
      "_________________________________________________________________\n",
      "max_pooling2d (MaxPooling2D) (None, 14, 14, 64)        0         \n",
      "_________________________________________________________________\n",
      "conv2d_3 (Conv2D)            (None, 14, 14, 128)       73856     \n",
      "_________________________________________________________________\n",
      "batch_normalization_3 (Batch (None, 14, 14, 128)       512       \n",
      "_________________________________________________________________\n",
      "activation_3 (Activation)    (None, 14, 14, 128)       0         \n",
      "_________________________________________________________________\n",
      "max_pooling2d_1 (MaxPooling2 (None, 7, 7, 128)         0         \n",
      "_________________________________________________________________\n",
      "dropout_1 (Dropout)          (None, 7, 7, 128)         0         \n",
      "_________________________________________________________________\n",
      "flatten (Flatten)            (None, 6272)              0         \n",
      "_________________________________________________________________\n",
      "dense (Dense)                (None, 512)               3211776   \n",
      "_________________________________________________________________\n",
      "batch_normalization_4 (Batch (None, 512)               2048      \n",
      "_________________________________________________________________\n",
      "activation_4 (Activation)    (None, 512)               0         \n",
      "_________________________________________________________________\n",
      "dropout_2 (Dropout)          (None, 512)               0         \n",
      "_________________________________________________________________\n",
      "dense_1 (Dense)              (None, 64)                32832     \n",
      "_________________________________________________________________\n",
      "batch_normalization_5 (Batch (None, 64)                256       \n",
      "_________________________________________________________________\n",
      "activation_5 (Activation)    (None, 64)                0         \n",
      "_________________________________________________________________\n",
      "dense_2 (Dense)              (None, 10)                650       \n",
      "=================================================================\n",
      "Total params: 3,350,506\n",
      "Trainable params: 3,348,842\n",
      "Non-trainable params: 1,664\n",
      "_________________________________________________________________\n"
     ]
    }
   ],
   "source": [
    "model = keras.Sequential()\n",
    "model.add(layers.Conv2D(32, kernel_size=(3,3), padding='same', input_shape = input_shape)) \n",
    "model.add(layers.BatchNormalization())\n",
    "model.add(layers.Activation('relu'))\n",
    "\n",
    "model.add(layers.Conv2D(32, kernel_size=(3,3), padding='same'))  \n",
    "model.add(layers.BatchNormalization())\n",
    "model.add(layers.Activation('relu'))\n",
    "model.add(layers.Dropout(0.2))\n",
    "\n",
    "\n",
    "model.add(layers.Conv2D(64, kernel_size=(3,3), padding='same'))  \n",
    "model.add(layers.BatchNormalization())\n",
    "model.add(layers.Activation('relu'))\n",
    "\n",
    "model.add(layers.MaxPool2D(pool_size=(2,2)))\n",
    "model.add(layers.Conv2D(128, kernel_size=(3,3), padding='same'))  \n",
    "model.add(layers.BatchNormalization())\n",
    "model.add(layers.Activation('relu'))\n",
    "\n",
    "\n",
    "\n",
    "\n",
    "# model.add(layers.Conv2D(128, kernel_size=(3,3), padding='same'))  \n",
    "# model.add(layers.BatchNormalization())\n",
    "# model.add(layers.Activation('relu'))\n",
    "# model.add(layers.MaxPool2D(pool_size=(2,2)))\n",
    "\n",
    "# model.add(layers.Conv2D(128, kernel_size=(3,3), padding='same'))  \n",
    "# model.add(layers.BatchNormalization())\n",
    "# model.add(layers.Activation('relu'))\n",
    "# model.add(layers.MaxPool2D(pool_size=(2,2)))\n",
    "# model.add(layers.Dropout(0.3))\n",
    "\n",
    "model.add(layers.MaxPool2D(pool_size=(2,2)))\n",
    "model.add(layers.Dropout(0.33))\n",
    "model.add(layers.Flatten())  \n",
    "model.add(layers.Dense(512)) \n",
    "model.add(layers.BatchNormalization())\n",
    "model.add(layers.Activation('relu'))\n",
    "model.add(layers.Dropout(0.4))\n",
    "\n",
    "model.add(layers.Dense(64)) \n",
    "model.add(layers.BatchNormalization())\n",
    "model.add(layers.Activation('relu'))\n",
    "model.add(layers.Dense(num_classes, activation='softmax'))\n",
    "model.summary()"
   ]
  },
  {
   "cell_type": "code",
   "execution_count": 11,
   "metadata": {
    "id": "6c8s0mpysO6J"
   },
   "outputs": [],
   "source": [
    "# model = keras.Sequential()\n",
    "\n",
    "# model.add(layers.Conv2D(32, kernel_size=(3,3),padding='same',input_shape = input_shape))\n",
    "# model.add(layers.BatchNormalization())\n",
    "# model.add(layers.Activation('relu'))\n",
    "                       \n",
    "# model.add(layers.Conv2D(32,kernel_size=(3,3),padding='same'))\n",
    "# model.add(layers.BatchNormalization())     \n",
    "# model.add(layers.Activation('relu')) \n",
    "            \n",
    "\n",
    "# model.add(layers.MaxPool2D(pool_size=(2,2)))\n",
    "# model.add(layers.Dropout(0.25))\n",
    "# model.add(layers.Conv2D(64, kernel_size=(3,3), padding='same'))\n",
    "# model.add(layers.BatchNormalization())     \n",
    "# model.add(layers.Activation('relu')) \n",
    "# model.add(layers.Conv2D(64, kernel_size=(3,3), padding='same'))\n",
    "# model.add(layers.BatchNormalization())     \n",
    "# model.add(layers.Activation('relu')) \n",
    "                        \n",
    "# model.add(layers.MaxPool2D(pool_size=(2,2)))\n",
    "# model.add(layers.Dropout(0.25))\n",
    "# model.add(layers.Conv2D(128,kernel_size=(3,3),padding='same'))\n",
    "# model.add(layers.BatchNormalization())\n",
    "# model.add(layers.Activation('relu')) \n",
    "# model.add(layers.Conv2D(128,kernel_size=(3,3),padding='same'))\n",
    "# model.add(layers.BatchNormalization())     \n",
    "# model.add(layers.Activation('relu')) \n",
    "                      \n",
    "# model.add(layers.MaxPool2D(pool_size=(2,2)))\n",
    "# model.add(layers.Dropout(0.25))                      \n",
    "# model.add(layers.Conv2D(256,kernel_size=(3,3), padding='same'))\n",
    "# model.add(layers.BatchNormalization())     \n",
    "# model.add(layers.Activation('relu')) \n",
    "# model.add(layers.Conv2D(256,kernel_size=(3,3), padding='same'))\n",
    "# model.add(layers.BatchNormalization())     \n",
    "# model.add(layers.Activation('relu')) \n",
    "\n",
    "# model.add(layers.MaxPool2D(pool_size=(2,2)))\n",
    "# model.add(layers.Dropout(0.25))   \n",
    "# model.add(layers.Conv2D(512, kernel_size=(3,3),padding='same'))\n",
    "# model.add(layers.BatchNormalization())     \n",
    "# model.add(layers.Activation('relu')) \n",
    "# model.add(layers.Conv2D(512,kernel_size=(3,3),padding='same'))\n",
    "# model.add(layers.BatchNormalization())     \n",
    "# model.add(layers.Activation('relu')) \n",
    "# model.add(layers.Dropout(0.25)) # FCN에서 사용한다.\n",
    "\n",
    "\n",
    "# model.add(layers.Flatten()) # 1차원으로 나열해준다.\n",
    "# model.add(layers.Dense(512))\n",
    "# model.add(layers.BatchNormalization())     \n",
    "# model.add(layers.Activation('relu')) \n",
    "# model.add(layers.Dropout(0.5))\n",
    "\n",
    "# model.add(layers.Dense(128))\n",
    "# model.add(layers.BatchNormalization())     \n",
    "# model.add(layers.Activation('relu')) \n",
    "# model.add(layers.Dropout(0.25))\n",
    "\n",
    "# model.add(layers.Dense(32))\n",
    "# model.add(layers.BatchNormalization())     \n",
    "# model.add(layers.Activation('relu')) \n",
    "# model.add(layers.Dropout(0.1))\n",
    "\n",
    "\n",
    "# model.add(layers.Dense(num_classes, activation='softmax'))\n",
    "# model.summary() # 표로 전체적인 결과값을 볼수 있다."
   ]
  },
  {
   "cell_type": "code",
   "execution_count": 12,
   "metadata": {
    "id": "-NJNu_VosPvX"
   },
   "outputs": [],
   "source": [
    "optim = keras.optimizers.Nadam(learning_rate=0.001)\n",
    "# optim = keras.optimizers.Adam(learning_rate=0.0001)\n",
    "# optim = keras.optimizers.RMSprop()\n",
    "model.compile(loss=keras.losses.categorical_crossentropy,\n",
    "              optimizer=optim,\n",
    "              metrics=['accuracy'])"
   ]
  },
  {
   "cell_type": "code",
   "execution_count": 13,
   "metadata": {
    "colab": {
     "base_uri": "https://localhost:8080/"
    },
    "id": "pF5ij63Jsf2r",
    "outputId": "1fdf8c3b-d79b-475f-8337-2aaec8f1a788"
   },
   "outputs": [
    {
     "name": "stdout",
     "output_type": "stream",
     "text": [
      "Epoch 1/50\n",
      "540/540 [==============================] - 15s 21ms/step - loss: 0.5714 - accuracy: 0.8117 - val_loss: 0.3912 - val_accuracy: 0.8562\n",
      "Epoch 2/50\n",
      "540/540 [==============================] - 11s 20ms/step - loss: 0.2588 - accuracy: 0.9049 - val_loss: 0.2264 - val_accuracy: 0.9200\n",
      "Epoch 3/50\n",
      "540/540 [==============================] - 11s 20ms/step - loss: 0.2191 - accuracy: 0.9193 - val_loss: 0.2058 - val_accuracy: 0.9267\n",
      "Epoch 4/50\n",
      "540/540 [==============================] - 11s 20ms/step - loss: 0.1870 - accuracy: 0.9316 - val_loss: 0.2036 - val_accuracy: 0.9265\n",
      "Epoch 5/50\n",
      "540/540 [==============================] - 11s 20ms/step - loss: 0.1682 - accuracy: 0.9388 - val_loss: 0.1791 - val_accuracy: 0.9377\n",
      "Epoch 6/50\n",
      "540/540 [==============================] - 11s 20ms/step - loss: 0.1549 - accuracy: 0.9432 - val_loss: 0.2043 - val_accuracy: 0.9203\n",
      "Epoch 7/50\n",
      "540/540 [==============================] - 11s 20ms/step - loss: 0.1463 - accuracy: 0.9461 - val_loss: 0.1751 - val_accuracy: 0.9375\n",
      "Epoch 8/50\n",
      "540/540 [==============================] - 11s 20ms/step - loss: 0.1310 - accuracy: 0.9528 - val_loss: 0.1710 - val_accuracy: 0.9387\n",
      "Epoch 9/50\n",
      "540/540 [==============================] - 11s 20ms/step - loss: 0.1235 - accuracy: 0.9548 - val_loss: 0.1758 - val_accuracy: 0.9360\n",
      "Epoch 10/50\n",
      "540/540 [==============================] - 11s 20ms/step - loss: 0.1141 - accuracy: 0.9583 - val_loss: 0.1665 - val_accuracy: 0.9402\n",
      "Epoch 11/50\n",
      "540/540 [==============================] - 11s 20ms/step - loss: 0.0981 - accuracy: 0.9623 - val_loss: 0.1680 - val_accuracy: 0.9403\n",
      "Epoch 12/50\n",
      "540/540 [==============================] - 11s 20ms/step - loss: 0.0932 - accuracy: 0.9658 - val_loss: 0.1774 - val_accuracy: 0.9403\n",
      "Epoch 13/50\n",
      "540/540 [==============================] - 11s 20ms/step - loss: 0.0873 - accuracy: 0.9687 - val_loss: 0.1617 - val_accuracy: 0.9428\n",
      "Epoch 14/50\n",
      "540/540 [==============================] - 11s 20ms/step - loss: 0.0762 - accuracy: 0.9719 - val_loss: 0.1780 - val_accuracy: 0.9417\n",
      "Epoch 15/50\n",
      "540/540 [==============================] - 11s 20ms/step - loss: 0.0731 - accuracy: 0.9737 - val_loss: 0.1884 - val_accuracy: 0.9382\n",
      "Epoch 16/50\n",
      "540/540 [==============================] - 11s 20ms/step - loss: 0.0636 - accuracy: 0.9760 - val_loss: 0.1797 - val_accuracy: 0.9438\n",
      "Epoch 17/50\n",
      "540/540 [==============================] - 11s 20ms/step - loss: 0.0606 - accuracy: 0.9773 - val_loss: 0.1940 - val_accuracy: 0.9438\n",
      "Epoch 18/50\n",
      "540/540 [==============================] - 11s 20ms/step - loss: 0.0597 - accuracy: 0.9775 - val_loss: 0.1862 - val_accuracy: 0.9443\n",
      "Epoch 19/50\n",
      "540/540 [==============================] - 11s 20ms/step - loss: 0.0561 - accuracy: 0.9788 - val_loss: 0.1765 - val_accuracy: 0.9432\n",
      "Epoch 20/50\n",
      "540/540 [==============================] - 11s 20ms/step - loss: 0.0506 - accuracy: 0.9812 - val_loss: 0.1968 - val_accuracy: 0.9420\n",
      "Epoch 21/50\n",
      "540/540 [==============================] - 11s 20ms/step - loss: 0.0490 - accuracy: 0.9819 - val_loss: 0.1867 - val_accuracy: 0.9438\n",
      "Epoch 22/50\n",
      "540/540 [==============================] - 11s 20ms/step - loss: 0.0443 - accuracy: 0.9835 - val_loss: 0.1985 - val_accuracy: 0.9438\n",
      "Epoch 23/50\n",
      "540/540 [==============================] - 11s 20ms/step - loss: 0.0406 - accuracy: 0.9849 - val_loss: 0.1996 - val_accuracy: 0.9435\n",
      "Epoch 24/50\n",
      "540/540 [==============================] - 11s 20ms/step - loss: 0.0409 - accuracy: 0.9853 - val_loss: 0.1945 - val_accuracy: 0.9465\n",
      "Epoch 25/50\n",
      "540/540 [==============================] - 11s 20ms/step - loss: 0.0408 - accuracy: 0.9854 - val_loss: 0.2067 - val_accuracy: 0.9410\n",
      "Epoch 26/50\n",
      "540/540 [==============================] - 11s 20ms/step - loss: 0.0401 - accuracy: 0.9856 - val_loss: 0.2077 - val_accuracy: 0.9445\n",
      "Epoch 27/50\n",
      "540/540 [==============================] - 11s 20ms/step - loss: 0.0352 - accuracy: 0.9868 - val_loss: 0.2337 - val_accuracy: 0.9425\n",
      "Epoch 28/50\n",
      "540/540 [==============================] - 11s 20ms/step - loss: 0.0364 - accuracy: 0.9866 - val_loss: 0.2146 - val_accuracy: 0.9437\n",
      "Epoch 29/50\n",
      "540/540 [==============================] - 11s 20ms/step - loss: 0.0344 - accuracy: 0.9876 - val_loss: 0.1954 - val_accuracy: 0.9455\n",
      "Epoch 30/50\n",
      "540/540 [==============================] - 11s 20ms/step - loss: 0.0305 - accuracy: 0.9889 - val_loss: 0.2147 - val_accuracy: 0.9450\n",
      "Epoch 31/50\n",
      "540/540 [==============================] - 11s 20ms/step - loss: 0.0319 - accuracy: 0.9893 - val_loss: 0.2040 - val_accuracy: 0.9438\n",
      "Epoch 32/50\n",
      "540/540 [==============================] - 11s 20ms/step - loss: 0.0306 - accuracy: 0.9887 - val_loss: 0.2120 - val_accuracy: 0.9450\n",
      "Epoch 33/50\n",
      "540/540 [==============================] - 11s 20ms/step - loss: 0.0303 - accuracy: 0.9890 - val_loss: 0.2089 - val_accuracy: 0.9443\n",
      "Epoch 34/50\n",
      "540/540 [==============================] - 11s 20ms/step - loss: 0.0273 - accuracy: 0.9900 - val_loss: 0.2155 - val_accuracy: 0.9467\n",
      "Epoch 35/50\n",
      "540/540 [==============================] - 11s 20ms/step - loss: 0.0294 - accuracy: 0.9899 - val_loss: 0.2173 - val_accuracy: 0.9437\n",
      "Epoch 36/50\n",
      "540/540 [==============================] - 11s 20ms/step - loss: 0.0254 - accuracy: 0.9916 - val_loss: 0.2196 - val_accuracy: 0.9450\n",
      "Epoch 37/50\n",
      "540/540 [==============================] - 11s 20ms/step - loss: 0.0266 - accuracy: 0.9904 - val_loss: 0.2251 - val_accuracy: 0.9442\n",
      "Epoch 38/50\n",
      "540/540 [==============================] - 11s 20ms/step - loss: 0.0278 - accuracy: 0.9900 - val_loss: 0.2178 - val_accuracy: 0.9465\n",
      "Epoch 39/50\n",
      "540/540 [==============================] - 11s 20ms/step - loss: 0.0239 - accuracy: 0.9918 - val_loss: 0.2104 - val_accuracy: 0.9483\n",
      "Epoch 40/50\n",
      "540/540 [==============================] - 11s 20ms/step - loss: 0.0232 - accuracy: 0.9916 - val_loss: 0.2243 - val_accuracy: 0.9448\n",
      "Epoch 41/50\n",
      "540/540 [==============================] - 11s 20ms/step - loss: 0.0245 - accuracy: 0.9909 - val_loss: 0.2404 - val_accuracy: 0.9387\n",
      "Epoch 42/50\n",
      "540/540 [==============================] - 11s 20ms/step - loss: 0.0235 - accuracy: 0.9912 - val_loss: 0.2255 - val_accuracy: 0.9432\n",
      "Epoch 43/50\n",
      "540/540 [==============================] - 11s 20ms/step - loss: 0.0212 - accuracy: 0.9924 - val_loss: 0.2766 - val_accuracy: 0.9413\n",
      "Epoch 44/50\n",
      "540/540 [==============================] - 11s 20ms/step - loss: 0.0226 - accuracy: 0.9918 - val_loss: 0.2276 - val_accuracy: 0.9445\n",
      "Epoch 45/50\n",
      "540/540 [==============================] - 11s 20ms/step - loss: 0.0224 - accuracy: 0.9920 - val_loss: 0.2348 - val_accuracy: 0.9417\n",
      "Epoch 46/50\n",
      "540/540 [==============================] - 11s 20ms/step - loss: 0.0220 - accuracy: 0.9918 - val_loss: 0.2741 - val_accuracy: 0.9397\n",
      "Epoch 47/50\n",
      "540/540 [==============================] - 11s 20ms/step - loss: 0.0228 - accuracy: 0.9922 - val_loss: 0.2434 - val_accuracy: 0.9462\n",
      "Epoch 48/50\n",
      "540/540 [==============================] - 11s 20ms/step - loss: 0.0204 - accuracy: 0.9926 - val_loss: 0.2426 - val_accuracy: 0.9472\n",
      "Epoch 49/50\n",
      "540/540 [==============================] - 11s 20ms/step - loss: 0.0207 - accuracy: 0.9930 - val_loss: 0.2226 - val_accuracy: 0.9443\n",
      "Epoch 50/50\n",
      "540/540 [==============================] - 11s 20ms/step - loss: 0.0185 - accuracy: 0.9934 - val_loss: 0.2319 - val_accuracy: 0.9480\n"
     ]
    }
   ],
   "source": [
    "history = model.fit(X_train, Y_train,\n",
    "                    batch_size = num_batch_size,\n",
    "                    epochs = num_epochs,\n",
    "                    validation_split = validation_split)"
   ]
  },
  {
   "cell_type": "code",
   "execution_count": 14,
   "metadata": {
    "id": "CqZlYzqSsjdU"
   },
   "outputs": [],
   "source": [
    "# loss 관련된 plot 함수\n",
    "def plot_loss(history):\n",
    "    plt.plot(history.history['loss'])\n",
    "    plt.plot(history.history['val_loss'])\n",
    "    plt.title('model Loss')\n",
    "    plt.ylabel('Loss')\n",
    "    plt.xlabel('Epoch') # X 측이 늘어남에 따라서 Y축이 얼마나 떨어지는가가 궁금한것이다.\n",
    "    plt.legend(['Train','Validation'])\n",
    "    plt.savefig('Loss_Plot.png', dpi=300) # dpi해상도를 조절 할 수 있다.\n",
    "    plt.show()\n",
    "\n",
    "def plot_acc(history):\n",
    "    plt.plot(history.history['accuracy'])\n",
    "    plt.plot(history.history['val_accuracy'])\n",
    "    plt.title('Model Accuracy')\n",
    "    plt.ylabel('Accuracy')\n",
    "    plt.xlabel('Epoch')\n",
    "    plt.legend(['Train','Validation'])\n",
    "    plt.savefig('Acc_Plot.png', dpi=300) # dpi해상도를 조절 할 수 있다.\n",
    "    plt.show()"
   ]
  },
  {
   "cell_type": "code",
   "execution_count": 15,
   "metadata": {
    "colab": {
     "base_uri": "https://localhost:8080/",
     "height": 295
    },
    "id": "ppTvPc29srSx",
    "outputId": "9e6d7acb-7f0b-45aa-df6e-66881a2d6fe8"
   },
   "outputs": [
    {
     "data": {
      "image/png": "[encoded data removed]",
      "text/plain": [
       "<Figure size 432x288 with 1 Axes>"
      ]
     },
     "metadata": {
      "needs_background": "light",
      "tags": []
     },
     "output_type": "display_data"
    }
   ],
   "source": [
    "plot_loss(history)"
   ]
  },
  {
   "cell_type": "code",
   "execution_count": 16,
   "metadata": {
    "colab": {
     "base_uri": "https://localhost:8080/",
     "height": 295
    },
    "id": "SzOWPFCAssB-",
    "outputId": "1349e9bf-4d11-4897-9841-af60cb33354a"
   },
   "outputs": [
    {
     "data": {
      "image/png": "[encoded data removed]",
      "text/plain": [
       "<Figure size 432x288 with 1 Axes>"
      ]
     },
     "metadata": {
      "needs_background": "light",
      "tags": []
     },
     "output_type": "display_data"
    }
   ],
   "source": [
    "plot_acc(history)"
   ]
  },
  {
   "cell_type": "code",
   "execution_count": 17,
   "metadata": {
    "colab": {
     "base_uri": "https://localhost:8080/"
    },
    "id": "4jJ75iulstnK",
    "outputId": "fb2773c4-1cae-4bc4-8e20-308024d242c2"
   },
   "outputs": [
    {
     "name": "stdout",
     "output_type": "stream",
     "text": [
      "100/100 [==============================] - 1s 6ms/step - loss: 0.2717 - accuracy: 0.9442\n",
      "loss:0.27170076966285706, accuracy:0.9441999793052673\n",
      "0.27170076966285706 0.9441999793052673\n"
     ]
    }
   ],
   "source": [
    "model_performance = model.evaluate(X_test,Y_test,batch_size=num_batch_size)\n",
    "print(f'loss:{model_performance[0]}, accuracy:{model_performance[1]}')\n",
    "print(*model_performance)"
   ]
  }
 ],
 "metadata": {
  "accelerator": "GPU",
  "colab": {
   "name": "10_keras_CNN_fashionmnist.ipynb",
   "provenance": []
  },
  "kernelspec": {
   "display_name": "Python 3",
   "language": "python",
   "name": "python3"
  },
  "language_info": {
   "codemirror_mode": {
    "name": "ipython",
    "version": 3
   },
   "file_extension": ".py",
   "mimetype": "text/x-python",
   "name": "python",
   "nbconvert_exporter": "python",
   "pygments_lexer": "ipython3",
   "version": "3.8.5"
  }
 },
 "nbformat": 4,
 "nbformat_minor": 1
}
