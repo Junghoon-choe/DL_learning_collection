{
 "cells": [
  {
   "cell_type": "markdown",
   "metadata": {
    "id": "UK9E2ua6tiYw"
   },
   "source": [
    "# 전체적인 로직\n",
    "1. Module Import\n",
    "2. Set Device\n",
    "3. Set Hyper Parameters\n",
    "  1. input_size, \n",
    "  2. hidden_size,\n",
    "  3. num_classes, \n",
    "  4. num_epochs, \n",
    "  5. batch_size, \n",
    "  6. learning_rate\n",
    "\n",
    "4. DownLoad and Save data\n",
    "5. Make Loader from save data\n",
    "6. Make NN Class with Forward function\n",
    "7. Generate Model, lossfunction, optimization\n",
    "8. Learn the model, override weights and bias values\n",
    "9. Test Model"
   ]
  },
  {
   "cell_type": "markdown",
   "metadata": {
    "id": "1n_kNHCntkUI"
   },
   "source": [
    "#1. Import Modules"
   ]
  },
  {
   "cell_type": "code",
   "execution_count": 50,
   "metadata": {
    "id": "NFhUTvzzN4FA"
   },
   "outputs": [],
   "source": [
    "import torch\n",
    "import torch.nn as nn\n",
    "import torchvision\n",
    "import torchvision.transforms as transforms\n",
    "import pandas as pd\n",
    "import matplotlib.pyplot as plt"
   ]
  },
  {
   "cell_type": "markdown",
   "metadata": {
    "id": "boIfFDGvOf5o"
   },
   "source": [
    "#2. Set Device"
   ]
  },
  {
   "cell_type": "code",
   "execution_count": 51,
   "metadata": {
    "colab": {
     "base_uri": "https://localhost:8080/"
    },
    "id": "dVikLKkjOEnh",
    "outputId": "56a0a8e4-8c39-400b-b9fc-db3013c88439"
   },
   "outputs": [
    {
     "data": {
      "text/plain": [
       "device(type='cuda')"
      ]
     },
     "execution_count": 51,
     "metadata": {
      "tags": []
     },
     "output_type": "execute_result"
    }
   ],
   "source": [
    "device = torch.device('cuda' if torch.cuda.is_available else 'cpu') \n",
    "device"
   ]
  },
  {
   "cell_type": "markdown",
   "metadata": {
    "id": "B13odKCXtyGK"
   },
   "source": [
    "#3. Set Hyper Parameters"
   ]
  },
  {
   "cell_type": "code",
   "execution_count": 52,
   "metadata": {
    "id": "DpF6L2UpwyAl"
   },
   "outputs": [],
   "source": [
    "input_size = 7 # 들어갈 특징의 갯수\n",
    "hidden_size = 256 # 중간(히든레이어)의 예측(출력)값이 hidden_size가 된다. 즉 train데이터의 사이즈를 알아봐서 설정하면 된다.\n",
    "num_classes = 2 # 0 아니면 1의 예측값만 얻어 낼 것으로 2로 선언한다.\n",
    "num_epochs = 1000\n",
    "learning_rate = 0.01"
   ]
  },
  {
   "cell_type": "markdown",
   "metadata": {
    "id": "sEdn6Vl7tysl"
   },
   "source": [
    "#4. Download and Save datas"
   ]
  },
  {
   "cell_type": "markdown",
   "metadata": {
    "id": "n9ts02COfwQW"
   },
   "source": [
    "##### local data를 가져옴"
   ]
  },
  {
   "cell_type": "code",
   "execution_count": 53,
   "metadata": {
    "colab": {
     "base_uri": "https://localhost:8080/",
     "height": 136,
     "resources": {
      "http://localhost:8080/nbextensions/google.colab/files.js": {
       "data": "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",
       "headers": [
        [
         "content-type",
         "application/javascript"
        ]
       ],
       "ok": true,
       "status": 200,
       "status_text": ""
      }
     }
    },
    "id": "ydHGHSm34pt6",
    "outputId": "8572423a-5a7b-421a-d7b9-7d2936eff3c5"
   },
   "outputs": [
    {
     "data": {
      "text/html": [
       "\n",
       "     <input type=\"file\" id=\"files-57402fd4-b986-4d07-9f70-0fcf12682ee9\" name=\"files[]\" multiple disabled\n",
       "        style=\"border:none\" />\n",
       "     <output id=\"result-57402fd4-b986-4d07-9f70-0fcf12682ee9\">\n",
       "      Upload widget is only available when the cell has been executed in the\n",
       "      current browser session. Please rerun this cell to enable.\n",
       "      </output>\n",
       "      <script src=\"/nbextensions/google.colab/files.js\"></script> "
      ],
      "text/plain": [
       "<IPython.core.display.HTML object>"
      ]
     },
     "metadata": {
      "tags": []
     },
     "output_type": "display_data"
    },
    {
     "name": "stdout",
     "output_type": "stream",
     "text": [
      "Saving titanic_train.csv to titanic_train (1).csv\n"
     ]
    },
    {
     "data": {
      "text/html": [
       "\n",
       "     <input type=\"file\" id=\"files-99e56ba9-05ca-472c-bdbd-7237b64fea31\" name=\"files[]\" multiple disabled\n",
       "        style=\"border:none\" />\n",
       "     <output id=\"result-99e56ba9-05ca-472c-bdbd-7237b64fea31\">\n",
       "      Upload widget is only available when the cell has been executed in the\n",
       "      current browser session. Please rerun this cell to enable.\n",
       "      </output>\n",
       "      <script src=\"/nbextensions/google.colab/files.js\"></script> "
      ],
      "text/plain": [
       "<IPython.core.display.HTML object>"
      ]
     },
     "metadata": {
      "tags": []
     },
     "output_type": "display_data"
    },
    {
     "name": "stdout",
     "output_type": "stream",
     "text": [
      "Saving titanic_test.csv to titanic_test (1).csv\n"
     ]
    }
   ],
   "source": [
    "from google.colab import files # local에서 데이터를 가져오는 Module이다. \n",
    "\n",
    "uploaded_train = files.upload() # 이 files.upload()를 실행하면 파일을 선택창이 나오는데 선택해서 데이터를 넣어줄 수 있다.\n",
    "uploaded_test = files.upload()"
   ]
  },
  {
   "cell_type": "markdown",
   "metadata": {
    "id": "WDc57Yhxf5xA"
   },
   "source": [
    "##### 가져온 데이터의 데이터셋을 바꿔준다."
   ]
  },
  {
   "cell_type": "code",
   "execution_count": 54,
   "metadata": {
    "id": "s6LW3DWj_8Nf"
   },
   "outputs": [],
   "source": [
    "import io\n",
    "train = pd.read_csv(io.BytesIO(uploaded_train['titanic_train.csv'])) # uploaded_train데이터 셋을  Pandas Dataframe 형태로 저장한다.\n",
    "test = pd.read_csv(io.BytesIO(uploaded_test['titanic_test.csv']))"
   ]
  },
  {
   "cell_type": "code",
   "execution_count": 55,
   "metadata": {
    "colab": {
     "base_uri": "https://localhost:8080/",
     "height": 198
    },
    "id": "5wvdPprQAAeR",
    "outputId": "23f76975-205f-42cc-999e-183bc210bb95"
   },
   "outputs": [
    {
     "data": {
      "text/html": [
       "<div>\n",
       "<style scoped>\n",
       "    .dataframe tbody tr th:only-of-type {\n",
       "        vertical-align: middle;\n",
       "    }\n",
       "\n",
       "    .dataframe tbody tr th {\n",
       "        vertical-align: top;\n",
       "    }\n",
       "\n",
       "    .dataframe thead th {\n",
       "        text-align: right;\n",
       "    }\n",
       "</style>\n",
       "<table border=\"1\" class=\"dataframe\">\n",
       "  <thead>\n",
       "    <tr style=\"text-align: right;\">\n",
       "      <th></th>\n",
       "      <th>PassengerId</th>\n",
       "      <th>Survived</th>\n",
       "      <th>Pclass</th>\n",
       "      <th>Name</th>\n",
       "      <th>Sex</th>\n",
       "      <th>Age</th>\n",
       "      <th>SibSp</th>\n",
       "      <th>Parch</th>\n",
       "      <th>Ticket</th>\n",
       "      <th>Fare</th>\n",
       "      <th>Cabin</th>\n",
       "      <th>Embarked</th>\n",
       "    </tr>\n",
       "  </thead>\n",
       "  <tbody>\n",
       "    <tr>\n",
       "      <th>0</th>\n",
       "      <td>1</td>\n",
       "      <td>0</td>\n",
       "      <td>3</td>\n",
       "      <td>Braund, Mr. Owen Harris</td>\n",
       "      <td>male</td>\n",
       "      <td>22.0</td>\n",
       "      <td>1</td>\n",
       "      <td>0</td>\n",
       "      <td>A/5 21171</td>\n",
       "      <td>7.2500</td>\n",
       "      <td>NaN</td>\n",
       "      <td>S</td>\n",
       "    </tr>\n",
       "    <tr>\n",
       "      <th>1</th>\n",
       "      <td>2</td>\n",
       "      <td>1</td>\n",
       "      <td>1</td>\n",
       "      <td>Cumings, Mrs. John Bradley (Florence Briggs Th...</td>\n",
       "      <td>female</td>\n",
       "      <td>38.0</td>\n",
       "      <td>1</td>\n",
       "      <td>0</td>\n",
       "      <td>PC 17599</td>\n",
       "      <td>71.2833</td>\n",
       "      <td>C85</td>\n",
       "      <td>C</td>\n",
       "    </tr>\n",
       "    <tr>\n",
       "      <th>2</th>\n",
       "      <td>3</td>\n",
       "      <td>1</td>\n",
       "      <td>3</td>\n",
       "      <td>Heikkinen, Miss. Laina</td>\n",
       "      <td>female</td>\n",
       "      <td>26.0</td>\n",
       "      <td>0</td>\n",
       "      <td>0</td>\n",
       "      <td>STON/O2. 3101282</td>\n",
       "      <td>7.9250</td>\n",
       "      <td>NaN</td>\n",
       "      <td>S</td>\n",
       "    </tr>\n",
       "    <tr>\n",
       "      <th>3</th>\n",
       "      <td>4</td>\n",
       "      <td>1</td>\n",
       "      <td>1</td>\n",
       "      <td>Futrelle, Mrs. Jacques Heath (Lily May Peel)</td>\n",
       "      <td>female</td>\n",
       "      <td>35.0</td>\n",
       "      <td>1</td>\n",
       "      <td>0</td>\n",
       "      <td>113803</td>\n",
       "      <td>53.1000</td>\n",
       "      <td>C123</td>\n",
       "      <td>S</td>\n",
       "    </tr>\n",
       "    <tr>\n",
       "      <th>4</th>\n",
       "      <td>5</td>\n",
       "      <td>0</td>\n",
       "      <td>3</td>\n",
       "      <td>Allen, Mr. William Henry</td>\n",
       "      <td>male</td>\n",
       "      <td>35.0</td>\n",
       "      <td>0</td>\n",
       "      <td>0</td>\n",
       "      <td>373450</td>\n",
       "      <td>8.0500</td>\n",
       "      <td>NaN</td>\n",
       "      <td>S</td>\n",
       "    </tr>\n",
       "  </tbody>\n",
       "</table>\n",
       "</div>"
      ],
      "text/plain": [
       "   PassengerId  Survived  Pclass  ...     Fare Cabin  Embarked\n",
       "0            1         0       3  ...   7.2500   NaN         S\n",
       "1            2         1       1  ...  71.2833   C85         C\n",
       "2            3         1       3  ...   7.9250   NaN         S\n",
       "3            4         1       1  ...  53.1000  C123         S\n",
       "4            5         0       3  ...   8.0500   NaN         S\n",
       "\n",
       "[5 rows x 12 columns]"
      ]
     },
     "execution_count": 55,
     "metadata": {
      "tags": []
     },
     "output_type": "execute_result"
    }
   ],
   "source": [
    "train.head(5)"
   ]
  },
  {
   "cell_type": "code",
   "execution_count": 56,
   "metadata": {
    "colab": {
     "base_uri": "https://localhost:8080/",
     "height": 198
    },
    "id": "2vMN9RWFgTKk",
    "outputId": "83ea559d-065d-44a6-c24e-6810c24998fc"
   },
   "outputs": [
    {
     "data": {
      "text/html": [
       "<div>\n",
       "<style scoped>\n",
       "    .dataframe tbody tr th:only-of-type {\n",
       "        vertical-align: middle;\n",
       "    }\n",
       "\n",
       "    .dataframe tbody tr th {\n",
       "        vertical-align: top;\n",
       "    }\n",
       "\n",
       "    .dataframe thead th {\n",
       "        text-align: right;\n",
       "    }\n",
       "</style>\n",
       "<table border=\"1\" class=\"dataframe\">\n",
       "  <thead>\n",
       "    <tr style=\"text-align: right;\">\n",
       "      <th></th>\n",
       "      <th>PassengerId</th>\n",
       "      <th>Pclass</th>\n",
       "      <th>Name</th>\n",
       "      <th>Sex</th>\n",
       "      <th>Age</th>\n",
       "      <th>SibSp</th>\n",
       "      <th>Parch</th>\n",
       "      <th>Ticket</th>\n",
       "      <th>Fare</th>\n",
       "      <th>Cabin</th>\n",
       "      <th>Embarked</th>\n",
       "    </tr>\n",
       "  </thead>\n",
       "  <tbody>\n",
       "    <tr>\n",
       "      <th>0</th>\n",
       "      <td>892</td>\n",
       "      <td>3</td>\n",
       "      <td>Kelly, Mr. James</td>\n",
       "      <td>male</td>\n",
       "      <td>34.5</td>\n",
       "      <td>0</td>\n",
       "      <td>0</td>\n",
       "      <td>330911</td>\n",
       "      <td>7.8292</td>\n",
       "      <td>NaN</td>\n",
       "      <td>Q</td>\n",
       "    </tr>\n",
       "    <tr>\n",
       "      <th>1</th>\n",
       "      <td>893</td>\n",
       "      <td>3</td>\n",
       "      <td>Wilkes, Mrs. James (Ellen Needs)</td>\n",
       "      <td>female</td>\n",
       "      <td>47.0</td>\n",
       "      <td>1</td>\n",
       "      <td>0</td>\n",
       "      <td>363272</td>\n",
       "      <td>7.0000</td>\n",
       "      <td>NaN</td>\n",
       "      <td>S</td>\n",
       "    </tr>\n",
       "    <tr>\n",
       "      <th>2</th>\n",
       "      <td>894</td>\n",
       "      <td>2</td>\n",
       "      <td>Myles, Mr. Thomas Francis</td>\n",
       "      <td>male</td>\n",
       "      <td>62.0</td>\n",
       "      <td>0</td>\n",
       "      <td>0</td>\n",
       "      <td>240276</td>\n",
       "      <td>9.6875</td>\n",
       "      <td>NaN</td>\n",
       "      <td>Q</td>\n",
       "    </tr>\n",
       "    <tr>\n",
       "      <th>3</th>\n",
       "      <td>895</td>\n",
       "      <td>3</td>\n",
       "      <td>Wirz, Mr. Albert</td>\n",
       "      <td>male</td>\n",
       "      <td>27.0</td>\n",
       "      <td>0</td>\n",
       "      <td>0</td>\n",
       "      <td>315154</td>\n",
       "      <td>8.6625</td>\n",
       "      <td>NaN</td>\n",
       "      <td>S</td>\n",
       "    </tr>\n",
       "    <tr>\n",
       "      <th>4</th>\n",
       "      <td>896</td>\n",
       "      <td>3</td>\n",
       "      <td>Hirvonen, Mrs. Alexander (Helga E Lindqvist)</td>\n",
       "      <td>female</td>\n",
       "      <td>22.0</td>\n",
       "      <td>1</td>\n",
       "      <td>1</td>\n",
       "      <td>3101298</td>\n",
       "      <td>12.2875</td>\n",
       "      <td>NaN</td>\n",
       "      <td>S</td>\n",
       "    </tr>\n",
       "  </tbody>\n",
       "</table>\n",
       "</div>"
      ],
      "text/plain": [
       "   PassengerId  Pclass  ... Cabin Embarked\n",
       "0          892       3  ...   NaN        Q\n",
       "1          893       3  ...   NaN        S\n",
       "2          894       2  ...   NaN        Q\n",
       "3          895       3  ...   NaN        S\n",
       "4          896       3  ...   NaN        S\n",
       "\n",
       "[5 rows x 11 columns]"
      ]
     },
     "execution_count": 56,
     "metadata": {
      "tags": []
     },
     "output_type": "execute_result"
    }
   ],
   "source": [
    "test.head(5)"
   ]
  },
  {
   "cell_type": "code",
   "execution_count": 57,
   "metadata": {
    "colab": {
     "base_uri": "https://localhost:8080/"
    },
    "id": "aGfvjc89gViN",
    "outputId": "25b88863-cc8c-4e12-9b2c-7c8b0980ae02"
   },
   "outputs": [
    {
     "name": "stdout",
     "output_type": "stream",
     "text": [
      "(891, 12)\n",
      "(418, 11)\n"
     ]
    }
   ],
   "source": [
    "print(train.shape)\n",
    "print(test.shape)"
   ]
  },
  {
   "cell_type": "markdown",
   "metadata": {
    "id": "_9pi3SEqgeCW"
   },
   "source": [
    "  위 결과물들을 종합적으로 보면 \n",
    "  test데이터에는 Survived 특성이 없는걸로 보아 해당 컬럼을 예측해야한다는 것을 알 수 있다.  \n",
    "  즉, 학습할때 train의 Survived의 값을 y로 지정해서 학습을 진행하면 된다.  \n",
    "  그리고 train 과 test의 데이터의 크기가 891, 418이라는것을 염두하고 작업을 진행하자."
   ]
  },
  {
   "cell_type": "markdown",
   "metadata": {
    "id": "BWmBL50piSoC"
   },
   "source": [
    "### Data Preprocessing"
   ]
  },
  {
   "cell_type": "code",
   "execution_count": 58,
   "metadata": {
    "id": "EQQ_hhS_iW4t"
   },
   "outputs": [],
   "source": [
    "train_test_data= [train, test] \n",
    "for dataset in train_test_data:\n",
    "    dataset['Title'] = dataset['Name'].str.extract(' ([A-Za-z]+)\\.', expand=False)\n",
    "\n",
    "title_mapping = {\"Mr\": \"Mr\", \"Miss\": \"Miss\", \"Mrs\": \"Mrs\", \n",
    "                 \"Master\": \"etc\", \"Dr\": \"etc\", \"Rev\": \"etc\", \"Col\": \"etc\", \"Major\": \"etc\", \"Mlle\": \"etc\",\"Countess\": \"etc\",\n",
    "                 \"Ms\": \"etc\", \"Lady\": \"etc\", \"Jonkheer\": \"etc\", \"Don\": \"etc\", \"Dona\" : \"etc\", \"Mme\": \"etc\",\"Capt\": \"etc\",\"Sir\": \"etc\" }\n",
    "for dataset in train_test_data:\n",
    "    dataset['Title'] = dataset['Title'].map(title_mapping)\n",
    "    \n",
    "train.drop('Name', axis=1, inplace=True)\n",
    "test.drop('Name', axis=1, inplace=True)"
   ]
  },
  {
   "cell_type": "code",
   "execution_count": 59,
   "metadata": {
    "id": "zGwMYUYZja3S"
   },
   "outputs": [],
   "source": [
    "train[\"FamilySize\"] = train[\"SibSp\"] + train[\"Parch\"]\n",
    "test[\"FamilySize\"] = test[\"SibSp\"] + test[\"Parch\"]\n",
    "train.drop('SibSp', axis=1, inplace=True)\n",
    "train.drop('Parch', axis=1, inplace=True)\n",
    "test.drop('SibSp', axis=1, inplace=True)\n",
    "test.drop('Parch', axis=1, inplace=True)"
   ]
  },
  {
   "cell_type": "code",
   "execution_count": 60,
   "metadata": {
    "id": "YmoZsIJHjniC"
   },
   "outputs": [],
   "source": [
    "# 트레이닝 자료에서 삭제한것은 테스트도 삭제해야한다.\n",
    "train.drop('Ticket', axis=1, inplace=True)\n",
    "test.drop('Ticket', axis=1, inplace=True) \n",
    "\n",
    "train.drop('Cabin', axis=1, inplace=True)\n",
    "test.drop('Cabin', axis=1, inplace=True)\n",
    "\n",
    "test_PassengerId=test[\"PassengerId\"]\n",
    "train.drop('PassengerId', axis = 1, inplace=True)\n",
    "test.drop('PassengerId', axis = 1, inplace=True)"
   ]
  },
  {
   "cell_type": "code",
   "execution_count": 61,
   "metadata": {
    "id": "kNcLShFbjvrP"
   },
   "outputs": [],
   "source": [
    "train[\"Age\"].fillna(train.groupby(\"Title\")[\"Age\"].transform(\"median\"), inplace=True)\n",
    "test[\"Age\"].fillna(test.groupby(\"Title\")[\"Age\"].transform(\"median\"), inplace=True)\n",
    "train[\"Fare\"].fillna(train.groupby(\"Pclass\")[\"Fare\"].transform(\"median\"), inplace=True)\n",
    "test[\"Fare\"].fillna(test.groupby(\"Pclass\")[\"Fare\"].transform(\"median\"), inplace=True)"
   ]
  },
  {
   "cell_type": "code",
   "execution_count": 62,
   "metadata": {
    "id": "CxMkOBfFkDsn"
   },
   "outputs": [],
   "source": [
    "for dataset in train_test_data:\n",
    "    dataset['Embarked'] = dataset['Embarked'].fillna('S')"
   ]
  },
  {
   "cell_type": "markdown",
   "metadata": {
    "id": "g7tR1CGAlO1Z"
   },
   "source": [
    "#### Binning"
   ]
  },
  {
   "cell_type": "code",
   "execution_count": 63,
   "metadata": {
    "id": "LAySZW04kU_g"
   },
   "outputs": [],
   "source": [
    "for dataset in train_test_data:\n",
    "    dataset.loc[ dataset['Age'] <= 16, 'Age'] = 0\n",
    "    dataset.loc[(dataset['Age'] > 16) & (dataset['Age'] <= 24), 'Age'] = 1\n",
    "    dataset.loc[(dataset['Age'] > 24) & (dataset['Age'] <= 32), 'Age'] = 2\n",
    "    dataset.loc[(dataset['Age'] > 32) & (dataset['Age'] <= 42), 'Age'] = 3\n",
    "    dataset.loc[(dataset['Age'] > 42) & (dataset['Age'] <= 47), 'Age'] = 4\n",
    "    dataset.loc[(dataset['Age'] > 47) & (dataset['Age'] <= 56), 'Age'] = 5\n",
    "    dataset.loc[ dataset['Age'] > 56, 'Age'] = 6"
   ]
  },
  {
   "cell_type": "code",
   "execution_count": 64,
   "metadata": {
    "id": "siPemHrPkrvz"
   },
   "outputs": [],
   "source": [
    "for dataset in train_test_data:\n",
    "    dataset.loc[ dataset['Fare'] <= 9, 'Fare'] = 0\n",
    "    dataset.loc[(dataset['Fare'] > 9) & (dataset['Fare'] <= 20), 'Fare'] = 1\n",
    "    dataset.loc[(dataset['Fare'] > 20) & (dataset['Fare'] <= 30), 'Fare'] = 2\n",
    "    dataset.loc[(dataset['Fare'] > 30) & (dataset['Fare'] <= 40), 'Fare'] = 3\n",
    "    dataset.loc[ dataset['Fare'] > 40, 'Fare'] = 4"
   ]
  },
  {
   "cell_type": "markdown",
   "metadata": {
    "id": "x6EMmzQklJx8"
   },
   "source": [
    "####Encoding"
   ]
  },
  {
   "cell_type": "code",
   "execution_count": 65,
   "metadata": {
    "id": "6suzCJVElCId"
   },
   "outputs": [],
   "source": [
    "sex_mapping = {\"male\": 0, \"female\": 1}\n",
    "for dataset in train_test_data:\n",
    "    dataset['Sex'] = dataset['Sex'].map(sex_mapping)"
   ]
  },
  {
   "cell_type": "code",
   "execution_count": 66,
   "metadata": {
    "id": "g8lxN9F1lZoM"
   },
   "outputs": [],
   "source": [
    "embarked_mapping = {\"S\": 0, \"C\": 1, \"Q\": 2}\n",
    "for dataset in train_test_data:\n",
    "    dataset['Embarked'] = dataset['Embarked'].map(embarked_mapping)"
   ]
  },
  {
   "cell_type": "code",
   "execution_count": 67,
   "metadata": {
    "id": "irZ1wzualc4i"
   },
   "outputs": [],
   "source": [
    "title_mapping = {\"Mr\": 0, \"Miss\": 1, \"Mrs\": 2, \"etc\": 3}\n",
    "for dataset in train_test_data:\n",
    "    dataset['Title'] = dataset['Title'].map(title_mapping)"
   ]
  },
  {
   "cell_type": "code",
   "execution_count": 68,
   "metadata": {
    "colab": {
     "base_uri": "https://localhost:8080/"
    },
    "id": "M8MGRCjvlsuc",
    "outputId": "200f3368-9ea2-4ea2-b860-dcc673e934a0"
   },
   "outputs": [
    {
     "name": "stdout",
     "output_type": "stream",
     "text": [
      "     Pclass  Sex  Age  Fare  Embarked  Title  FamilySize\n",
      "0         3    0  1.0   0.0         0      0           1\n",
      "1         1    1  3.0   4.0         1      2           1\n",
      "2         3    1  2.0   0.0         0      1           0\n",
      "3         1    1  3.0   4.0         0      2           1\n",
      "4         3    0  3.0   0.0         0      0           0\n",
      "..      ...  ...  ...   ...       ...    ...         ...\n",
      "886       2    0  2.0   1.0         0      3           0\n",
      "887       1    1  1.0   2.0         0      1           0\n",
      "888       3    1  1.0   2.0         0      1           3\n",
      "889       1    0  2.0   2.0         1      0           0\n",
      "890       3    0  2.0   0.0         2      0           0\n",
      "\n",
      "[891 rows x 7 columns]\n",
      "0      0\n",
      "1      1\n",
      "2      1\n",
      "3      1\n",
      "4      0\n",
      "      ..\n",
      "886    0\n",
      "887    1\n",
      "888    0\n",
      "889    1\n",
      "890    0\n",
      "Name: Survived, Length: 891, dtype: int64\n"
     ]
    }
   ],
   "source": [
    "# Redefine\n",
    "\n",
    "train_data = train.drop('Survived', axis=1)\n",
    "train_label = train['Survived']\n",
    "print(train_data)\n",
    "print(train_label)"
   ]
  },
  {
   "cell_type": "code",
   "execution_count": 69,
   "metadata": {
    "colab": {
     "base_uri": "https://localhost:8080/",
     "height": 407
    },
    "id": "oIMn989l18Ua",
    "outputId": "e86b2827-1bf9-4d82-d4a2-73b6818c036f"
   },
   "outputs": [
    {
     "data": {
      "text/html": [
       "<div>\n",
       "<style scoped>\n",
       "    .dataframe tbody tr th:only-of-type {\n",
       "        vertical-align: middle;\n",
       "    }\n",
       "\n",
       "    .dataframe tbody tr th {\n",
       "        vertical-align: top;\n",
       "    }\n",
       "\n",
       "    .dataframe thead th {\n",
       "        text-align: right;\n",
       "    }\n",
       "</style>\n",
       "<table border=\"1\" class=\"dataframe\">\n",
       "  <thead>\n",
       "    <tr style=\"text-align: right;\">\n",
       "      <th></th>\n",
       "      <th>Pclass</th>\n",
       "      <th>Sex</th>\n",
       "      <th>Age</th>\n",
       "      <th>Fare</th>\n",
       "      <th>Embarked</th>\n",
       "      <th>Title</th>\n",
       "      <th>FamilySize</th>\n",
       "    </tr>\n",
       "  </thead>\n",
       "  <tbody>\n",
       "    <tr>\n",
       "      <th>0</th>\n",
       "      <td>3</td>\n",
       "      <td>0</td>\n",
       "      <td>1.0</td>\n",
       "      <td>0.0</td>\n",
       "      <td>0</td>\n",
       "      <td>0</td>\n",
       "      <td>1</td>\n",
       "    </tr>\n",
       "    <tr>\n",
       "      <th>1</th>\n",
       "      <td>1</td>\n",
       "      <td>1</td>\n",
       "      <td>3.0</td>\n",
       "      <td>4.0</td>\n",
       "      <td>1</td>\n",
       "      <td>2</td>\n",
       "      <td>1</td>\n",
       "    </tr>\n",
       "    <tr>\n",
       "      <th>2</th>\n",
       "      <td>3</td>\n",
       "      <td>1</td>\n",
       "      <td>2.0</td>\n",
       "      <td>0.0</td>\n",
       "      <td>0</td>\n",
       "      <td>1</td>\n",
       "      <td>0</td>\n",
       "    </tr>\n",
       "    <tr>\n",
       "      <th>3</th>\n",
       "      <td>1</td>\n",
       "      <td>1</td>\n",
       "      <td>3.0</td>\n",
       "      <td>4.0</td>\n",
       "      <td>0</td>\n",
       "      <td>2</td>\n",
       "      <td>1</td>\n",
       "    </tr>\n",
       "    <tr>\n",
       "      <th>4</th>\n",
       "      <td>3</td>\n",
       "      <td>0</td>\n",
       "      <td>3.0</td>\n",
       "      <td>0.0</td>\n",
       "      <td>0</td>\n",
       "      <td>0</td>\n",
       "      <td>0</td>\n",
       "    </tr>\n",
       "    <tr>\n",
       "      <th>...</th>\n",
       "      <td>...</td>\n",
       "      <td>...</td>\n",
       "      <td>...</td>\n",
       "      <td>...</td>\n",
       "      <td>...</td>\n",
       "      <td>...</td>\n",
       "      <td>...</td>\n",
       "    </tr>\n",
       "    <tr>\n",
       "      <th>886</th>\n",
       "      <td>2</td>\n",
       "      <td>0</td>\n",
       "      <td>2.0</td>\n",
       "      <td>1.0</td>\n",
       "      <td>0</td>\n",
       "      <td>3</td>\n",
       "      <td>0</td>\n",
       "    </tr>\n",
       "    <tr>\n",
       "      <th>887</th>\n",
       "      <td>1</td>\n",
       "      <td>1</td>\n",
       "      <td>1.0</td>\n",
       "      <td>2.0</td>\n",
       "      <td>0</td>\n",
       "      <td>1</td>\n",
       "      <td>0</td>\n",
       "    </tr>\n",
       "    <tr>\n",
       "      <th>888</th>\n",
       "      <td>3</td>\n",
       "      <td>1</td>\n",
       "      <td>1.0</td>\n",
       "      <td>2.0</td>\n",
       "      <td>0</td>\n",
       "      <td>1</td>\n",
       "      <td>3</td>\n",
       "    </tr>\n",
       "    <tr>\n",
       "      <th>889</th>\n",
       "      <td>1</td>\n",
       "      <td>0</td>\n",
       "      <td>2.0</td>\n",
       "      <td>2.0</td>\n",
       "      <td>1</td>\n",
       "      <td>0</td>\n",
       "      <td>0</td>\n",
       "    </tr>\n",
       "    <tr>\n",
       "      <th>890</th>\n",
       "      <td>3</td>\n",
       "      <td>0</td>\n",
       "      <td>2.0</td>\n",
       "      <td>0.0</td>\n",
       "      <td>2</td>\n",
       "      <td>0</td>\n",
       "      <td>0</td>\n",
       "    </tr>\n",
       "  </tbody>\n",
       "</table>\n",
       "<p>891 rows × 7 columns</p>\n",
       "</div>"
      ],
      "text/plain": [
       "     Pclass  Sex  Age  Fare  Embarked  Title  FamilySize\n",
       "0         3    0  1.0   0.0         0      0           1\n",
       "1         1    1  3.0   4.0         1      2           1\n",
       "2         3    1  2.0   0.0         0      1           0\n",
       "3         1    1  3.0   4.0         0      2           1\n",
       "4         3    0  3.0   0.0         0      0           0\n",
       "..      ...  ...  ...   ...       ...    ...         ...\n",
       "886       2    0  2.0   1.0         0      3           0\n",
       "887       1    1  1.0   2.0         0      1           0\n",
       "888       3    1  1.0   2.0         0      1           3\n",
       "889       1    0  2.0   2.0         1      0           0\n",
       "890       3    0  2.0   0.0         2      0           0\n",
       "\n",
       "[891 rows x 7 columns]"
      ]
     },
     "execution_count": 69,
     "metadata": {
      "tags": []
     },
     "output_type": "execute_result"
    }
   ],
   "source": [
    "train_data"
   ]
  },
  {
   "cell_type": "code",
   "execution_count": 70,
   "metadata": {
    "colab": {
     "base_uri": "https://localhost:8080/"
    },
    "id": "s-f9QrFC1996",
    "outputId": "664643d9-741e-4a70-a66c-201a2dcd5b4b"
   },
   "outputs": [
    {
     "data": {
      "text/plain": [
       "0      0\n",
       "1      1\n",
       "2      1\n",
       "3      1\n",
       "4      0\n",
       "      ..\n",
       "886    0\n",
       "887    1\n",
       "888    0\n",
       "889    1\n",
       "890    0\n",
       "Name: Survived, Length: 891, dtype: int64"
      ]
     },
     "execution_count": 70,
     "metadata": {
      "tags": []
     },
     "output_type": "execute_result"
    }
   ],
   "source": [
    "train_label"
   ]
  },
  {
   "cell_type": "code",
   "execution_count": 71,
   "metadata": {
    "colab": {
     "base_uri": "https://localhost:8080/",
     "height": 407
    },
    "id": "TTsnyMHe2srz",
    "outputId": "06850c63-06f2-40e6-94a0-4d5e31bffd81"
   },
   "outputs": [
    {
     "data": {
      "text/html": [
       "<div>\n",
       "<style scoped>\n",
       "    .dataframe tbody tr th:only-of-type {\n",
       "        vertical-align: middle;\n",
       "    }\n",
       "\n",
       "    .dataframe tbody tr th {\n",
       "        vertical-align: top;\n",
       "    }\n",
       "\n",
       "    .dataframe thead th {\n",
       "        text-align: right;\n",
       "    }\n",
       "</style>\n",
       "<table border=\"1\" class=\"dataframe\">\n",
       "  <thead>\n",
       "    <tr style=\"text-align: right;\">\n",
       "      <th></th>\n",
       "      <th>Survived</th>\n",
       "      <th>Pclass</th>\n",
       "      <th>Sex</th>\n",
       "      <th>Age</th>\n",
       "      <th>Fare</th>\n",
       "      <th>Embarked</th>\n",
       "      <th>Title</th>\n",
       "      <th>FamilySize</th>\n",
       "    </tr>\n",
       "  </thead>\n",
       "  <tbody>\n",
       "    <tr>\n",
       "      <th>0</th>\n",
       "      <td>0</td>\n",
       "      <td>3</td>\n",
       "      <td>0</td>\n",
       "      <td>1.0</td>\n",
       "      <td>0.0</td>\n",
       "      <td>0</td>\n",
       "      <td>0</td>\n",
       "      <td>1</td>\n",
       "    </tr>\n",
       "    <tr>\n",
       "      <th>1</th>\n",
       "      <td>1</td>\n",
       "      <td>1</td>\n",
       "      <td>1</td>\n",
       "      <td>3.0</td>\n",
       "      <td>4.0</td>\n",
       "      <td>1</td>\n",
       "      <td>2</td>\n",
       "      <td>1</td>\n",
       "    </tr>\n",
       "    <tr>\n",
       "      <th>2</th>\n",
       "      <td>1</td>\n",
       "      <td>3</td>\n",
       "      <td>1</td>\n",
       "      <td>2.0</td>\n",
       "      <td>0.0</td>\n",
       "      <td>0</td>\n",
       "      <td>1</td>\n",
       "      <td>0</td>\n",
       "    </tr>\n",
       "    <tr>\n",
       "      <th>3</th>\n",
       "      <td>1</td>\n",
       "      <td>1</td>\n",
       "      <td>1</td>\n",
       "      <td>3.0</td>\n",
       "      <td>4.0</td>\n",
       "      <td>0</td>\n",
       "      <td>2</td>\n",
       "      <td>1</td>\n",
       "    </tr>\n",
       "    <tr>\n",
       "      <th>4</th>\n",
       "      <td>0</td>\n",
       "      <td>3</td>\n",
       "      <td>0</td>\n",
       "      <td>3.0</td>\n",
       "      <td>0.0</td>\n",
       "      <td>0</td>\n",
       "      <td>0</td>\n",
       "      <td>0</td>\n",
       "    </tr>\n",
       "    <tr>\n",
       "      <th>...</th>\n",
       "      <td>...</td>\n",
       "      <td>...</td>\n",
       "      <td>...</td>\n",
       "      <td>...</td>\n",
       "      <td>...</td>\n",
       "      <td>...</td>\n",
       "      <td>...</td>\n",
       "      <td>...</td>\n",
       "    </tr>\n",
       "    <tr>\n",
       "      <th>886</th>\n",
       "      <td>0</td>\n",
       "      <td>2</td>\n",
       "      <td>0</td>\n",
       "      <td>2.0</td>\n",
       "      <td>1.0</td>\n",
       "      <td>0</td>\n",
       "      <td>3</td>\n",
       "      <td>0</td>\n",
       "    </tr>\n",
       "    <tr>\n",
       "      <th>887</th>\n",
       "      <td>1</td>\n",
       "      <td>1</td>\n",
       "      <td>1</td>\n",
       "      <td>1.0</td>\n",
       "      <td>2.0</td>\n",
       "      <td>0</td>\n",
       "      <td>1</td>\n",
       "      <td>0</td>\n",
       "    </tr>\n",
       "    <tr>\n",
       "      <th>888</th>\n",
       "      <td>0</td>\n",
       "      <td>3</td>\n",
       "      <td>1</td>\n",
       "      <td>1.0</td>\n",
       "      <td>2.0</td>\n",
       "      <td>0</td>\n",
       "      <td>1</td>\n",
       "      <td>3</td>\n",
       "    </tr>\n",
       "    <tr>\n",
       "      <th>889</th>\n",
       "      <td>1</td>\n",
       "      <td>1</td>\n",
       "      <td>0</td>\n",
       "      <td>2.0</td>\n",
       "      <td>2.0</td>\n",
       "      <td>1</td>\n",
       "      <td>0</td>\n",
       "      <td>0</td>\n",
       "    </tr>\n",
       "    <tr>\n",
       "      <th>890</th>\n",
       "      <td>0</td>\n",
       "      <td>3</td>\n",
       "      <td>0</td>\n",
       "      <td>2.0</td>\n",
       "      <td>0.0</td>\n",
       "      <td>2</td>\n",
       "      <td>0</td>\n",
       "      <td>0</td>\n",
       "    </tr>\n",
       "  </tbody>\n",
       "</table>\n",
       "<p>891 rows × 8 columns</p>\n",
       "</div>"
      ],
      "text/plain": [
       "     Survived  Pclass  Sex  Age  Fare  Embarked  Title  FamilySize\n",
       "0           0       3    0  1.0   0.0         0      0           1\n",
       "1           1       1    1  3.0   4.0         1      2           1\n",
       "2           1       3    1  2.0   0.0         0      1           0\n",
       "3           1       1    1  3.0   4.0         0      2           1\n",
       "4           0       3    0  3.0   0.0         0      0           0\n",
       "..        ...     ...  ...  ...   ...       ...    ...         ...\n",
       "886         0       2    0  2.0   1.0         0      3           0\n",
       "887         1       1    1  1.0   2.0         0      1           0\n",
       "888         0       3    1  1.0   2.0         0      1           3\n",
       "889         1       1    0  2.0   2.0         1      0           0\n",
       "890         0       3    0  2.0   0.0         2      0           0\n",
       "\n",
       "[891 rows x 8 columns]"
      ]
     },
     "execution_count": 71,
     "metadata": {
      "tags": []
     },
     "output_type": "execute_result"
    }
   ],
   "source": [
    "train"
   ]
  },
  {
   "cell_type": "markdown",
   "metadata": {
    "id": "JTXobfzUty1y"
   },
   "source": [
    "#5. Make Loader from save datas\n"
   ]
  },
  {
   "cell_type": "code",
   "execution_count": 72,
   "metadata": {
    "id": "AlIf-hm7hAvA"
   },
   "outputs": [],
   "source": [
    "# DataLoader는 C++로 코딩되어있음...\n",
    "train_loader = torch.utils.data.DataLoader(dataset = train, shuffle = True)\n",
    "\n",
    "test_loader = torch.utils.data.DataLoader(dataset = test, shuffle=False)"
   ]
  },
  {
   "cell_type": "code",
   "execution_count": 73,
   "metadata": {
    "id": "yXwDUZFv2xQm"
   },
   "outputs": [],
   "source": [
    "X = train_loader.dataset.drop(columns='Survived')\n",
    "target = train_loader.dataset['Survived']"
   ]
  },
  {
   "cell_type": "code",
   "execution_count": 74,
   "metadata": {
    "colab": {
     "base_uri": "https://localhost:8080/",
     "height": 407
    },
    "id": "upzd_df_3VaK",
    "outputId": "4477b7c5-d99a-4180-8d6b-f49ba8999b2e"
   },
   "outputs": [
    {
     "data": {
      "text/html": [
       "<div>\n",
       "<style scoped>\n",
       "    .dataframe tbody tr th:only-of-type {\n",
       "        vertical-align: middle;\n",
       "    }\n",
       "\n",
       "    .dataframe tbody tr th {\n",
       "        vertical-align: top;\n",
       "    }\n",
       "\n",
       "    .dataframe thead th {\n",
       "        text-align: right;\n",
       "    }\n",
       "</style>\n",
       "<table border=\"1\" class=\"dataframe\">\n",
       "  <thead>\n",
       "    <tr style=\"text-align: right;\">\n",
       "      <th></th>\n",
       "      <th>Pclass</th>\n",
       "      <th>Sex</th>\n",
       "      <th>Age</th>\n",
       "      <th>Fare</th>\n",
       "      <th>Embarked</th>\n",
       "      <th>Title</th>\n",
       "      <th>FamilySize</th>\n",
       "    </tr>\n",
       "  </thead>\n",
       "  <tbody>\n",
       "    <tr>\n",
       "      <th>0</th>\n",
       "      <td>3</td>\n",
       "      <td>0</td>\n",
       "      <td>1.0</td>\n",
       "      <td>0.0</td>\n",
       "      <td>0</td>\n",
       "      <td>0</td>\n",
       "      <td>1</td>\n",
       "    </tr>\n",
       "    <tr>\n",
       "      <th>1</th>\n",
       "      <td>1</td>\n",
       "      <td>1</td>\n",
       "      <td>3.0</td>\n",
       "      <td>4.0</td>\n",
       "      <td>1</td>\n",
       "      <td>2</td>\n",
       "      <td>1</td>\n",
       "    </tr>\n",
       "    <tr>\n",
       "      <th>2</th>\n",
       "      <td>3</td>\n",
       "      <td>1</td>\n",
       "      <td>2.0</td>\n",
       "      <td>0.0</td>\n",
       "      <td>0</td>\n",
       "      <td>1</td>\n",
       "      <td>0</td>\n",
       "    </tr>\n",
       "    <tr>\n",
       "      <th>3</th>\n",
       "      <td>1</td>\n",
       "      <td>1</td>\n",
       "      <td>3.0</td>\n",
       "      <td>4.0</td>\n",
       "      <td>0</td>\n",
       "      <td>2</td>\n",
       "      <td>1</td>\n",
       "    </tr>\n",
       "    <tr>\n",
       "      <th>4</th>\n",
       "      <td>3</td>\n",
       "      <td>0</td>\n",
       "      <td>3.0</td>\n",
       "      <td>0.0</td>\n",
       "      <td>0</td>\n",
       "      <td>0</td>\n",
       "      <td>0</td>\n",
       "    </tr>\n",
       "    <tr>\n",
       "      <th>...</th>\n",
       "      <td>...</td>\n",
       "      <td>...</td>\n",
       "      <td>...</td>\n",
       "      <td>...</td>\n",
       "      <td>...</td>\n",
       "      <td>...</td>\n",
       "      <td>...</td>\n",
       "    </tr>\n",
       "    <tr>\n",
       "      <th>886</th>\n",
       "      <td>2</td>\n",
       "      <td>0</td>\n",
       "      <td>2.0</td>\n",
       "      <td>1.0</td>\n",
       "      <td>0</td>\n",
       "      <td>3</td>\n",
       "      <td>0</td>\n",
       "    </tr>\n",
       "    <tr>\n",
       "      <th>887</th>\n",
       "      <td>1</td>\n",
       "      <td>1</td>\n",
       "      <td>1.0</td>\n",
       "      <td>2.0</td>\n",
       "      <td>0</td>\n",
       "      <td>1</td>\n",
       "      <td>0</td>\n",
       "    </tr>\n",
       "    <tr>\n",
       "      <th>888</th>\n",
       "      <td>3</td>\n",
       "      <td>1</td>\n",
       "      <td>1.0</td>\n",
       "      <td>2.0</td>\n",
       "      <td>0</td>\n",
       "      <td>1</td>\n",
       "      <td>3</td>\n",
       "    </tr>\n",
       "    <tr>\n",
       "      <th>889</th>\n",
       "      <td>1</td>\n",
       "      <td>0</td>\n",
       "      <td>2.0</td>\n",
       "      <td>2.0</td>\n",
       "      <td>1</td>\n",
       "      <td>0</td>\n",
       "      <td>0</td>\n",
       "    </tr>\n",
       "    <tr>\n",
       "      <th>890</th>\n",
       "      <td>3</td>\n",
       "      <td>0</td>\n",
       "      <td>2.0</td>\n",
       "      <td>0.0</td>\n",
       "      <td>2</td>\n",
       "      <td>0</td>\n",
       "      <td>0</td>\n",
       "    </tr>\n",
       "  </tbody>\n",
       "</table>\n",
       "<p>891 rows × 7 columns</p>\n",
       "</div>"
      ],
      "text/plain": [
       "     Pclass  Sex  Age  Fare  Embarked  Title  FamilySize\n",
       "0         3    0  1.0   0.0         0      0           1\n",
       "1         1    1  3.0   4.0         1      2           1\n",
       "2         3    1  2.0   0.0         0      1           0\n",
       "3         1    1  3.0   4.0         0      2           1\n",
       "4         3    0  3.0   0.0         0      0           0\n",
       "..      ...  ...  ...   ...       ...    ...         ...\n",
       "886       2    0  2.0   1.0         0      3           0\n",
       "887       1    1  1.0   2.0         0      1           0\n",
       "888       3    1  1.0   2.0         0      1           3\n",
       "889       1    0  2.0   2.0         1      0           0\n",
       "890       3    0  2.0   0.0         2      0           0\n",
       "\n",
       "[891 rows x 7 columns]"
      ]
     },
     "execution_count": 74,
     "metadata": {
      "tags": []
     },
     "output_type": "execute_result"
    }
   ],
   "source": [
    "X"
   ]
  },
  {
   "cell_type": "code",
   "execution_count": 75,
   "metadata": {
    "id": "kSbH-u8MGe5P"
   },
   "outputs": [],
   "source": [
    "from sklearn.model_selection import train_test_split"
   ]
  },
  {
   "cell_type": "code",
   "execution_count": 76,
   "metadata": {
    "id": "T9374VskGafJ"
   },
   "outputs": [],
   "source": [
    "X_train, X_test, y_train, y_test = train_test_split(X, target, test_size=0.2, shuffle=True)"
   ]
  },
  {
   "cell_type": "code",
   "execution_count": 77,
   "metadata": {
    "id": "GzwgcxGkHjL-"
   },
   "outputs": [],
   "source": [
    "X_train = X_train.values.tolist()"
   ]
  },
  {
   "cell_type": "code",
   "execution_count": 78,
   "metadata": {
    "id": "gsqjUKj2Gkut"
   },
   "outputs": [],
   "source": [
    "X_test = X_test.values.tolist()"
   ]
  },
  {
   "cell_type": "code",
   "execution_count": 79,
   "metadata": {
    "id": "979OZTcmHY63"
   },
   "outputs": [],
   "source": [
    "y_test = y_test.values.tolist()"
   ]
  },
  {
   "cell_type": "code",
   "execution_count": 80,
   "metadata": {
    "colab": {
     "base_uri": "https://localhost:8080/"
    },
    "id": "kDvVjp5lHtDp",
    "outputId": "15dc36e1-3906-4c68-bc79-f3e726e14995"
   },
   "outputs": [
    {
     "data": {
      "text/plain": [
       "[[3.0, 1.0, 3.0, 3.0, 0.0, 2.0, 6.0],\n",
       " [1.0, 0.0, 0.0, 4.0, 0.0, 3.0, 3.0],\n",
       " [3.0, 1.0, 1.0, 1.0, 0.0, 2.0, 1.0],\n",
       " [1.0, 1.0, 1.0, 4.0, 1.0, 1.0, 0.0],\n",
       " [1.0, 0.0, 3.0, 0.0, 0.0, 3.0, 0.0],\n",
       " [2.0, 0.0, 3.0, 1.0, 0.0, 0.0, 0.0],\n",
       " [1.0, 0.0, 3.0, 4.0, 0.0, 0.0, 3.0],\n",
       " [1.0, 1.0, 2.0, 4.0, 1.0, 1.0, 1.0],\n",
       " [2.0, 1.0, 2.0, 1.0, 0.0, 2.0, 0.0],\n",
       " [3.0, 0.0, 2.0, 0.0, 0.0, 0.0, 0.0],\n",
       " [3.0, 0.0, 2.0, 0.0, 0.0, 0.0, 0.0],\n",
       " [3.0, 0.0, 2.0, 0.0, 2.0, 0.0, 0.0],\n",
       " [2.0, 1.0, 2.0, 2.0, 0.0, 2.0, 1.0],\n",
       " [1.0, 0.0, 6.0, 3.0, 0.0, 0.0, 0.0],\n",
       " [2.0, 0.0, 2.0, 1.0, 0.0, 0.0, 0.0],\n",
       " [1.0, 1.0, 3.0, 4.0, 0.0, 2.0, 1.0],\n",
       " [1.0, 0.0, 2.0, 4.0, 0.0, 0.0, 0.0],\n",
       " [3.0, 0.0, 2.0, 0.0, 2.0, 0.0, 0.0],\n",
       " [3.0, 0.0, 1.0, 0.0, 1.0, 0.0, 2.0],\n",
       " [2.0, 0.0, 5.0, 1.0, 0.0, 0.0, 0.0],\n",
       " [2.0, 1.0, 1.0, 2.0, 0.0, 2.0, 1.0],\n",
       " [3.0, 1.0, 0.0, 3.0, 0.0, 1.0, 6.0],\n",
       " [1.0, 0.0, 1.0, 4.0, 0.0, 0.0, 5.0],\n",
       " [3.0, 0.0, 0.0, 2.0, 0.0, 3.0, 4.0],\n",
       " [3.0, 0.0, 1.0, 1.0, 0.0, 0.0, 0.0],\n",
       " [1.0, 1.0, 5.0, 4.0, 1.0, 2.0, 1.0],\n",
       " [3.0, 0.0, 2.0, 0.0, 2.0, 0.0, 0.0],\n",
       " [3.0, 1.0, 1.0, 0.0, 2.0, 1.0, 0.0],\n",
       " [2.0, 1.0, 3.0, 1.0, 0.0, 2.0, 0.0],\n",
       " [3.0, 1.0, 0.0, 3.0, 0.0, 1.0, 4.0],\n",
       " [3.0, 0.0, 1.0, 1.0, 0.0, 0.0, 0.0],\n",
       " [3.0, 0.0, 3.0, 0.0, 0.0, 0.0, 0.0],\n",
       " [3.0, 0.0, 2.0, 0.0, 2.0, 0.0, 0.0],\n",
       " [3.0, 0.0, 3.0, 3.0, 0.0, 0.0, 6.0],\n",
       " [2.0, 1.0, 5.0, 1.0, 0.0, 1.0, 0.0],\n",
       " [1.0, 0.0, 6.0, 2.0, 0.0, 0.0, 0.0],\n",
       " [3.0, 0.0, 2.0, 0.0, 0.0, 0.0, 0.0],\n",
       " [2.0, 1.0, 3.0, 1.0, 0.0, 1.0, 0.0],\n",
       " [1.0, 0.0, 6.0, 2.0, 0.0, 0.0, 0.0],\n",
       " [3.0, 0.0, 2.0, 0.0, 0.0, 0.0, 0.0],\n",
       " [3.0, 0.0, 2.0, 4.0, 0.0, 0.0, 0.0],\n",
       " [3.0, 1.0, 1.0, 1.0, 2.0, 1.0, 1.0],\n",
       " [3.0, 0.0, 2.0, 0.0, 0.0, 0.0, 1.0],\n",
       " [1.0, 0.0, 2.0, 4.0, 1.0, 0.0, 2.0],\n",
       " [3.0, 1.0, 6.0, 1.0, 0.0, 2.0, 0.0],\n",
       " [2.0, 1.0, 1.0, 1.0, 0.0, 2.0, 5.0],\n",
       " [3.0, 0.0, 3.0, 0.0, 0.0, 0.0, 1.0],\n",
       " [3.0, 1.0, 1.0, 0.0, 2.0, 1.0, 0.0],\n",
       " [3.0, 1.0, 1.0, 1.0, 0.0, 1.0, 0.0],\n",
       " [2.0, 0.0, 1.0, 4.0, 0.0, 0.0, 0.0],\n",
       " [3.0, 1.0, 1.0, 0.0, 2.0, 1.0, 0.0],\n",
       " [3.0, 0.0, 2.0, 4.0, 0.0, 0.0, 0.0],\n",
       " [3.0, 0.0, 3.0, 0.0, 2.0, 0.0, 0.0],\n",
       " [3.0, 0.0, 2.0, 0.0, 1.0, 0.0, 0.0],\n",
       " [3.0, 0.0, 1.0, 0.0, 0.0, 0.0, 0.0],\n",
       " [3.0, 0.0, 2.0, 0.0, 0.0, 0.0, 0.0],\n",
       " [3.0, 0.0, 1.0, 0.0, 0.0, 0.0, 0.0],\n",
       " [3.0, 0.0, 1.0, 0.0, 0.0, 0.0, 0.0],\n",
       " [2.0, 0.0, 3.0, 1.0, 0.0, 0.0, 0.0],\n",
       " [3.0, 0.0, 2.0, 0.0, 0.0, 0.0, 0.0],\n",
       " [3.0, 0.0, 2.0, 0.0, 0.0, 0.0, 0.0],\n",
       " [3.0, 1.0, 1.0, 4.0, 0.0, 1.0, 10.0],\n",
       " [3.0, 0.0, 0.0, 1.0, 0.0, 3.0, 1.0],\n",
       " [3.0, 0.0, 3.0, 0.0, 1.0, 0.0, 0.0],\n",
       " [1.0, 0.0, 3.0, 2.0, 0.0, 0.0, 0.0],\n",
       " [2.0, 1.0, 2.0, 2.0, 0.0, 2.0, 3.0],\n",
       " [1.0, 1.0, 1.0, 4.0, 1.0, 1.0, 4.0],\n",
       " [3.0, 1.0, 1.0, 0.0, 2.0, 1.0, 0.0],\n",
       " [3.0, 1.0, 1.0, 0.0, 2.0, 1.0, 0.0],\n",
       " [1.0, 0.0, 5.0, 4.0, 1.0, 3.0, 1.0],\n",
       " [2.0, 0.0, 3.0, 2.0, 0.0, 0.0, 1.0],\n",
       " [3.0, 0.0, 2.0, 0.0, 0.0, 0.0, 0.0],\n",
       " [1.0, 0.0, 5.0, 3.0, 1.0, 0.0, 0.0],\n",
       " [2.0, 0.0, 2.0, 2.0, 0.0, 0.0, 1.0],\n",
       " [2.0, 0.0, 6.0, 1.0, 2.0, 3.0, 0.0],\n",
       " [1.0, 0.0, 2.0, 2.0, 0.0, 0.0, 0.0],\n",
       " [2.0, 0.0, 2.0, 0.0, 0.0, 0.0, 0.0],\n",
       " [1.0, 0.0, 2.0, 3.0, 0.0, 0.0, 0.0],\n",
       " [3.0, 1.0, 1.0, 0.0, 0.0, 1.0, 0.0],\n",
       " [3.0, 0.0, 2.0, 1.0, 2.0, 0.0, 1.0],\n",
       " [1.0, 0.0, 3.0, 3.0, 1.0, 0.0, 0.0],\n",
       " [1.0, 1.0, 1.0, 4.0, 0.0, 1.0, 0.0],\n",
       " [3.0, 0.0, 2.0, 1.0, 0.0, 0.0, 0.0],\n",
       " [3.0, 1.0, 1.0, 4.0, 0.0, 1.0, 10.0],\n",
       " [2.0, 0.0, 3.0, 1.0, 0.0, 0.0, 0.0],\n",
       " [3.0, 0.0, 1.0, 0.0, 0.0, 0.0, 0.0],\n",
       " [3.0, 1.0, 1.0, 3.0, 0.0, 1.0, 4.0],\n",
       " [1.0, 0.0, 6.0, 4.0, 1.0, 0.0, 1.0],\n",
       " [3.0, 0.0, 0.0, 2.0, 0.0, 3.0, 5.0],\n",
       " [2.0, 0.0, 1.0, 1.0, 0.0, 3.0, 0.0],\n",
       " [2.0, 0.0, 2.0, 0.0, 0.0, 0.0, 0.0],\n",
       " [3.0, 0.0, 3.0, 0.0, 0.0, 0.0, 0.0],\n",
       " [3.0, 0.0, 2.0, 0.0, 1.0, 0.0, 0.0],\n",
       " [1.0, 0.0, 2.0, 4.0, 0.0, 0.0, 0.0],\n",
       " [1.0, 1.0, 1.0, 4.0, 1.0, 3.0, 0.0],\n",
       " [2.0, 0.0, 2.0, 1.0, 1.0, 0.0, 0.0],\n",
       " [3.0, 0.0, 3.0, 0.0, 0.0, 0.0, 2.0],\n",
       " [2.0, 0.0, 2.0, 1.0, 0.0, 0.0, 0.0],\n",
       " [3.0, 0.0, 3.0, 0.0, 0.0, 0.0, 0.0],\n",
       " [3.0, 1.0, 1.0, 1.0, 1.0, 2.0, 3.0],\n",
       " [1.0, 0.0, 1.0, 4.0, 1.0, 0.0, 0.0],\n",
       " [2.0, 1.0, 5.0, 2.0, 0.0, 2.0, 1.0],\n",
       " [2.0, 0.0, 2.0, 1.0, 0.0, 0.0, 0.0],\n",
       " [1.0, 0.0, 2.0, 2.0, 1.0, 0.0, 0.0],\n",
       " [2.0, 0.0, 0.0, 1.0, 0.0, 3.0, 2.0],\n",
       " [2.0, 1.0, 0.0, 2.0, 0.0, 1.0, 2.0],\n",
       " [3.0, 1.0, 3.0, 2.0, 0.0, 2.0, 2.0],\n",
       " [3.0, 0.0, 3.0, 0.0, 0.0, 0.0, 0.0],\n",
       " [1.0, 1.0, 2.0, 4.0, 1.0, 1.0, 0.0],\n",
       " [3.0, 1.0, 2.0, 1.0, 0.0, 2.0, 2.0],\n",
       " [2.0, 0.0, 1.0, 1.0, 0.0, 0.0, 0.0],\n",
       " [2.0, 0.0, 2.0, 1.0, 0.0, 0.0, 0.0],\n",
       " [3.0, 0.0, 1.0, 0.0, 0.0, 0.0, 0.0],\n",
       " [1.0, 1.0, 1.0, 4.0, 1.0, 2.0, 1.0],\n",
       " [1.0, 0.0, 5.0, 4.0, 0.0, 0.0, 2.0],\n",
       " [1.0, 1.0, 4.0, 4.0, 0.0, 2.0, 1.0],\n",
       " [3.0, 0.0, 1.0, 0.0, 0.0, 0.0, 0.0],\n",
       " [3.0, 0.0, 0.0, 1.0, 0.0, 3.0, 2.0],\n",
       " [3.0, 1.0, 0.0, 1.0, 0.0, 1.0, 1.0],\n",
       " [3.0, 0.0, 1.0, 0.0, 0.0, 0.0, 0.0],\n",
       " [2.0, 0.0, 4.0, 2.0, 0.0, 0.0, 0.0],\n",
       " [3.0, 0.0, 0.0, 1.0, 0.0, 0.0, 0.0],\n",
       " [1.0, 0.0, 2.0, 2.0, 0.0, 0.0, 0.0],\n",
       " [3.0, 1.0, 1.0, 0.0, 2.0, 1.0, 0.0],\n",
       " [3.0, 0.0, 1.0, 1.0, 0.0, 0.0, 0.0],\n",
       " [3.0, 1.0, 2.0, 0.0, 0.0, 1.0, 0.0],\n",
       " [3.0, 1.0, 3.0, 0.0, 0.0, 2.0, 0.0],\n",
       " [1.0, 0.0, 3.0, 4.0, 0.0, 0.0, 1.0],\n",
       " [1.0, 1.0, 3.0, 4.0, 1.0, 1.0, 0.0],\n",
       " [1.0, 1.0, 0.0, 4.0, 1.0, 1.0, 1.0],\n",
       " [2.0, 0.0, 4.0, 1.0, 0.0, 0.0, 0.0],\n",
       " [1.0, 0.0, 2.0, 2.0, 1.0, 0.0, 0.0],\n",
       " [3.0, 0.0, 0.0, 1.0, 0.0, 3.0, 2.0],\n",
       " [3.0, 1.0, 3.0, 1.0, 0.0, 2.0, 3.0],\n",
       " [3.0, 0.0, 2.0, 0.0, 1.0, 0.0, 0.0],\n",
       " [3.0, 0.0, 1.0, 0.0, 1.0, 0.0, 0.0],\n",
       " [2.0, 1.0, 1.0, 1.0, 0.0, 1.0, 2.0],\n",
       " [3.0, 0.0, 1.0, 0.0, 0.0, 0.0, 0.0],\n",
       " [3.0, 1.0, 2.0, 1.0, 0.0, 2.0, 1.0],\n",
       " [1.0, 0.0, 1.0, 4.0, 1.0, 0.0, 0.0],\n",
       " [3.0, 1.0, 0.0, 2.0, 0.0, 1.0, 5.0],\n",
       " [2.0, 0.0, 3.0, 2.0, 0.0, 0.0, 1.0],\n",
       " [3.0, 1.0, 4.0, 1.0, 1.0, 2.0, 1.0],\n",
       " [2.0, 0.0, 2.0, 1.0, 0.0, 0.0, 0.0],\n",
       " [2.0, 0.0, 3.0, 3.0, 1.0, 0.0, 1.0],\n",
       " [3.0, 0.0, 0.0, 3.0, 0.0, 3.0, 6.0],\n",
       " [3.0, 0.0, 1.0, 0.0, 0.0, 0.0, 0.0],\n",
       " [3.0, 0.0, 0.0, 2.0, 2.0, 3.0, 5.0],\n",
       " [3.0, 0.0, 1.0, 0.0, 0.0, 0.0, 0.0],\n",
       " [1.0, 1.0, 3.0, 4.0, 0.0, 2.0, 1.0],\n",
       " [3.0, 0.0, 2.0, 1.0, 0.0, 0.0, 1.0],\n",
       " [1.0, 1.0, 1.0, 4.0, 1.0, 1.0, 0.0],\n",
       " [2.0, 0.0, 3.0, 1.0, 0.0, 0.0, 0.0],\n",
       " [3.0, 0.0, 2.0, 4.0, 0.0, 0.0, 0.0],\n",
       " [3.0, 0.0, 3.0, 0.0, 0.0, 0.0, 0.0],\n",
       " [2.0, 0.0, 6.0, 1.0, 0.0, 0.0, 0.0],\n",
       " [3.0, 0.0, 2.0, 0.0, 0.0, 0.0, 0.0],\n",
       " [3.0, 0.0, 0.0, 2.0, 2.0, 3.0, 5.0],\n",
       " [1.0, 0.0, 4.0, 4.0, 2.0, 3.0, 2.0],\n",
       " [3.0, 0.0, 0.0, 2.0, 0.0, 3.0, 5.0],\n",
       " [3.0, 0.0, 2.0, 0.0, 2.0, 0.0, 0.0],\n",
       " [3.0, 0.0, 2.0, 1.0, 1.0, 0.0, 0.0],\n",
       " [3.0, 1.0, 1.0, 0.0, 2.0, 1.0, 2.0],\n",
       " [2.0, 1.0, 0.0, 2.0, 0.0, 1.0, 2.0],\n",
       " [3.0, 0.0, 4.0, 0.0, 0.0, 0.0, 0.0],\n",
       " [2.0, 0.0, 2.0, 1.0, 0.0, 0.0, 0.0],\n",
       " [3.0, 0.0, 1.0, 0.0, 1.0, 0.0, 0.0],\n",
       " [3.0, 0.0, 2.0, 0.0, 0.0, 0.0, 0.0],\n",
       " [2.0, 1.0, 3.0, 3.0, 0.0, 2.0, 2.0],\n",
       " [3.0, 0.0, 2.0, 4.0, 0.0, 0.0, 0.0],\n",
       " [3.0, 0.0, 0.0, 2.0, 2.0, 3.0, 5.0],\n",
       " [1.0, 0.0, 3.0, 2.0, 1.0, 3.0, 0.0],\n",
       " [3.0, 0.0, 2.0, 0.0, 0.0, 0.0, 1.0],\n",
       " [2.0, 0.0, 1.0, 1.0, 0.0, 0.0, 0.0],\n",
       " [1.0, 0.0, 0.0, 4.0, 0.0, 3.0, 3.0],\n",
       " [2.0, 0.0, 2.0, 2.0, 0.0, 0.0, 1.0],\n",
       " [3.0, 0.0, 4.0, 0.0, 0.0, 0.0, 0.0],\n",
       " [2.0, 1.0, 3.0, 2.0, 0.0, 1.0, 0.0],\n",
       " [1.0, 1.0, 3.0, 4.0, 0.0, 2.0, 1.0],\n",
       " [3.0, 0.0, 5.0, 0.0, 0.0, 0.0, 0.0],\n",
       " [3.0, 0.0, 2.0, 4.0, 0.0, 0.0, 10.0],\n",
       " [2.0, 1.0, 1.0, 2.0, 0.0, 1.0, 1.0],\n",
       " [3.0, 0.0, 1.0, 0.0, 0.0, 0.0, 0.0],\n",
       " [3.0, 0.0, 1.0, 1.0, 0.0, 0.0, 0.0],\n",
       " [3.0, 0.0, 6.0, 0.0, 2.0, 0.0, 0.0],\n",
       " [3.0, 0.0, 2.0, 0.0, 2.0, 0.0, 0.0],\n",
       " [3.0, 1.0, 2.0, 0.0, 0.0, 1.0, 0.0],\n",
       " [3.0, 0.0, 2.0, 0.0, 0.0, 0.0, 0.0],\n",
       " [3.0, 0.0, 2.0, 0.0, 0.0, 0.0, 0.0],\n",
       " [3.0, 0.0, 0.0, 4.0, 0.0, 3.0, 10.0],\n",
       " [1.0, 0.0, 2.0, 4.0, 1.0, 0.0, 1.0],\n",
       " [3.0, 0.0, 4.0, 0.0, 0.0, 0.0, 0.0],\n",
       " [3.0, 0.0, 2.0, 0.0, 0.0, 0.0, 0.0],\n",
       " [3.0, 0.0, 2.0, 0.0, 0.0, 0.0, 0.0],\n",
       " [3.0, 0.0, 1.0, 0.0, 0.0, 0.0, 1.0],\n",
       " [3.0, 1.0, 1.0, 0.0, 2.0, 1.0, 0.0],\n",
       " [3.0, 1.0, 0.0, 1.0, 1.0, 1.0, 2.0],\n",
       " [1.0, 0.0, 3.0, 4.0, 0.0, 0.0, 1.0],\n",
       " [3.0, 0.0, 0.0, 2.0, 0.0, 3.0, 2.0],\n",
       " [3.0, 1.0, 1.0, 0.0, 0.0, 1.0, 0.0],\n",
       " [3.0, 0.0, 2.0, 1.0, 0.0, 0.0, 0.0],\n",
       " [2.0, 0.0, 3.0, 1.0, 0.0, 0.0, 0.0],\n",
       " [2.0, 1.0, 3.0, 2.0, 0.0, 2.0, 2.0],\n",
       " [2.0, 0.0, 3.0, 1.0, 0.0, 0.0, 0.0],\n",
       " [1.0, 1.0, 1.0, 4.0, 0.0, 2.0, 1.0],\n",
       " [2.0, 1.0, 1.0, 1.0, 0.0, 1.0, 0.0],\n",
       " [1.0, 0.0, 4.0, 2.0, 0.0, 3.0, 0.0],\n",
       " [3.0, 1.0, 3.0, 1.0, 0.0, 2.0, 1.0],\n",
       " [3.0, 0.0, 2.0, 2.0, 0.0, 0.0, 3.0],\n",
       " [1.0, 1.0, 5.0, 2.0, 0.0, 3.0, 0.0],\n",
       " [3.0, 0.0, 3.0, 0.0, 0.0, 0.0, 0.0],\n",
       " [3.0, 0.0, 0.0, 0.0, 0.0, 0.0, 0.0],\n",
       " [2.0, 0.0, 2.0, 2.0, 0.0, 0.0, 2.0],\n",
       " [3.0, 0.0, 3.0, 0.0, 0.0, 0.0, 0.0],\n",
       " [1.0, 1.0, 0.0, 4.0, 0.0, 1.0, 0.0],\n",
       " [3.0, 0.0, 0.0, 3.0, 0.0, 3.0, 5.0],\n",
       " [3.0, 0.0, 2.0, 1.0, 1.0, 0.0, 0.0],\n",
       " [1.0, 0.0, 4.0, 2.0, 0.0, 0.0, 0.0],\n",
       " [3.0, 0.0, 2.0, 0.0, 0.0, 0.0, 1.0],\n",
       " [2.0, 0.0, 3.0, 2.0, 0.0, 0.0, 2.0],\n",
       " [1.0, 1.0, 6.0, 2.0, 0.0, 1.0, 0.0],\n",
       " [3.0, 0.0, 2.0, 0.0, 0.0, 0.0, 0.0],\n",
       " [3.0, 0.0, 1.0, 0.0, 0.0, 0.0, 0.0],\n",
       " [2.0, 0.0, 2.0, 2.0, 1.0, 0.0, 1.0],\n",
       " [2.0, 1.0, 2.0, 1.0, 0.0, 2.0, 0.0],\n",
       " [1.0, 1.0, 2.0, 4.0, 0.0, 1.0, 0.0],\n",
       " [1.0, 0.0, 3.0, 4.0, 0.0, 0.0, 1.0],\n",
       " [3.0, 0.0, 2.0, 0.0, 0.0, 0.0, 0.0],\n",
       " [3.0, 0.0, 2.0, 0.0, 0.0, 0.0, 0.0],\n",
       " [3.0, 0.0, 2.0, 0.0, 0.0, 0.0, 0.0],\n",
       " [3.0, 0.0, 2.0, 0.0, 1.0, 0.0, 0.0],\n",
       " [1.0, 0.0, 6.0, 4.0, 0.0, 0.0, 5.0],\n",
       " [1.0, 0.0, 5.0, 4.0, 0.0, 0.0, 1.0],\n",
       " [3.0, 0.0, 3.0, 0.0, 0.0, 0.0, 0.0],\n",
       " [3.0, 0.0, 1.0, 0.0, 0.0, 0.0, 0.0],\n",
       " [1.0, 0.0, 4.0, 4.0, 0.0, 0.0, 0.0],\n",
       " [2.0, 0.0, 5.0, 2.0, 0.0, 0.0, 0.0],\n",
       " [3.0, 0.0, 2.0, 0.0, 0.0, 0.0, 0.0],\n",
       " [3.0, 0.0, 2.0, 0.0, 2.0, 0.0, 0.0],\n",
       " [3.0, 1.0, 1.0, 2.0, 0.0, 1.0, 4.0],\n",
       " [3.0, 0.0, 1.0, 0.0, 0.0, 0.0, 0.0],\n",
       " [2.0, 1.0, 0.0, 2.0, 0.0, 1.0, 2.0],\n",
       " [1.0, 0.0, 2.0, 4.0, 1.0, 0.0, 1.0],\n",
       " [1.0, 1.0, 1.0, 4.0, 0.0, 1.0, 0.0],\n",
       " [1.0, 0.0, 4.0, 2.0, 0.0, 0.0, 0.0],\n",
       " [3.0, 0.0, 1.0, 0.0, 0.0, 0.0, 0.0],\n",
       " [3.0, 0.0, 2.0, 0.0, 0.0, 0.0, 0.0],\n",
       " [3.0, 0.0, 2.0, 0.0, 0.0, 0.0, 0.0],\n",
       " [3.0, 0.0, 2.0, 0.0, 0.0, 0.0, 0.0],\n",
       " [1.0, 1.0, 5.0, 4.0, 1.0, 2.0, 1.0],\n",
       " [3.0, 0.0, 2.0, 0.0, 0.0, 0.0, 0.0],\n",
       " [3.0, 0.0, 1.0, 0.0, 0.0, 0.0, 0.0],\n",
       " [1.0, 1.0, 3.0, 4.0, 1.0, 1.0, 0.0],\n",
       " [3.0, 0.0, 2.0, 0.0, 0.0, 0.0, 0.0],\n",
       " [3.0, 0.0, 0.0, 2.0, 2.0, 3.0, 5.0],\n",
       " [3.0, 1.0, 0.0, 0.0, 0.0, 1.0, 0.0],\n",
       " [1.0, 1.0, 3.0, 4.0, 2.0, 1.0, 1.0],\n",
       " [3.0, 0.0, 2.0, 0.0, 0.0, 0.0, 0.0],\n",
       " [3.0, 1.0, 1.0, 1.0, 1.0, 1.0, 1.0],\n",
       " [3.0, 0.0, 6.0, 0.0, 2.0, 0.0, 0.0],\n",
       " [3.0, 0.0, 1.0, 0.0, 0.0, 0.0, 2.0],\n",
       " [3.0, 1.0, 1.0, 1.0, 0.0, 2.0, 1.0],\n",
       " [3.0, 0.0, 1.0, 0.0, 0.0, 0.0, 0.0],\n",
       " [1.0, 0.0, 4.0, 3.0, 0.0, 0.0, 0.0],\n",
       " [1.0, 0.0, 5.0, 3.0, 0.0, 0.0, 0.0],\n",
       " [2.0, 0.0, 1.0, 1.0, 0.0, 0.0, 3.0],\n",
       " [2.0, 1.0, 1.0, 4.0, 1.0, 2.0, 3.0],\n",
       " [3.0, 0.0, 0.0, 4.0, 0.0, 3.0, 7.0],\n",
       " [3.0, 0.0, 2.0, 0.0, 0.0, 0.0, 0.0],\n",
       " [3.0, 0.0, 1.0, 0.0, 0.0, 0.0, 0.0],\n",
       " [3.0, 1.0, 4.0, 1.0, 0.0, 2.0, 1.0],\n",
       " [2.0, 0.0, 2.0, 1.0, 0.0, 0.0, 0.0],\n",
       " [3.0, 0.0, 5.0, 0.0, 0.0, 0.0, 0.0],\n",
       " [1.0, 0.0, 3.0, 0.0, 0.0, 0.0, 0.0],\n",
       " [3.0, 1.0, 0.0, 0.0, 2.0, 1.0, 0.0],\n",
       " [1.0, 1.0, 0.0, 4.0, 0.0, 1.0, 1.0],\n",
       " [2.0, 0.0, 2.0, 1.0, 1.0, 0.0, 0.0],\n",
       " [1.0, 1.0, 5.0, 4.0, 0.0, 2.0, 1.0],\n",
       " [3.0, 0.0, 1.0, 0.0, 1.0, 0.0, 0.0],\n",
       " [1.0, 0.0, 3.0, 2.0, 0.0, 0.0, 0.0],\n",
       " [1.0, 0.0, 2.0, 2.0, 0.0, 0.0, 0.0],\n",
       " [1.0, 1.0, 6.0, 4.0, 1.0, 1.0, 0.0],\n",
       " [3.0, 1.0, 1.0, 2.0, 0.0, 1.0, 4.0],\n",
       " [2.0, 0.0, 4.0, 2.0, 0.0, 0.0, 2.0],\n",
       " [1.0, 0.0, 2.0, 3.0, 1.0, 3.0, 0.0],\n",
       " [2.0, 0.0, 1.0, 1.0, 0.0, 0.0, 1.0],\n",
       " [3.0, 1.0, 2.0, 1.0, 0.0, 2.0, 2.0],\n",
       " [2.0, 0.0, 3.0, 1.0, 0.0, 0.0, 0.0],\n",
       " [3.0, 0.0, 2.0, 1.0, 0.0, 0.0, 0.0],\n",
       " [3.0, 0.0, 2.0, 0.0, 1.0, 0.0, 0.0],\n",
       " [3.0, 0.0, 0.0, 0.0, 0.0, 0.0, 0.0],\n",
       " [3.0, 1.0, 1.0, 0.0, 0.0, 1.0, 0.0],\n",
       " [1.0, 1.0, 1.0, 4.0, 1.0, 2.0, 1.0],\n",
       " [1.0, 0.0, 2.0, 3.0, 0.0, 0.0, 0.0],\n",
       " [1.0, 1.0, 1.0, 4.0, 1.0, 2.0, 1.0],\n",
       " [3.0, 0.0, 1.0, 0.0, 0.0, 0.0, 0.0],\n",
       " [3.0, 1.0, 0.0, 0.0, 2.0, 1.0, 0.0],\n",
       " [3.0, 0.0, 3.0, 1.0, 0.0, 0.0, 0.0],\n",
       " [2.0, 0.0, 1.0, 1.0, 0.0, 0.0, 0.0],\n",
       " [1.0, 1.0, 5.0, 3.0, 1.0, 3.0, 1.0],\n",
       " [3.0, 0.0, 2.0, 1.0, 0.0, 0.0, 1.0],\n",
       " [3.0, 1.0, 0.0, 3.0, 0.0, 1.0, 6.0],\n",
       " [1.0, 1.0, 6.0, 4.0, 0.0, 2.0, 1.0],\n",
       " [2.0, 1.0, 3.0, 2.0, 0.0, 2.0, 1.0],\n",
       " [3.0, 1.0, 1.0, 1.0, 1.0, 1.0, 0.0],\n",
       " [3.0, 0.0, 1.0, 1.0, 0.0, 0.0, 1.0],\n",
       " [3.0, 0.0, 1.0, 0.0, 0.0, 0.0, 0.0],\n",
       " [3.0, 0.0, 2.0, 0.0, 2.0, 0.0, 1.0],\n",
       " [1.0, 0.0, 3.0, 2.0, 0.0, 0.0, 0.0],\n",
       " [1.0, 1.0, 2.0, 3.0, 1.0, 1.0, 0.0],\n",
       " [3.0, 1.0, 2.0, 2.0, 0.0, 2.0, 2.0],\n",
       " [3.0, 0.0, 2.0, 0.0, 0.0, 0.0, 0.0],\n",
       " [3.0, 0.0, 2.0, 0.0, 1.0, 0.0, 0.0],\n",
       " [2.0, 1.0, 4.0, 1.0, 0.0, 2.0, 0.0],\n",
       " [1.0, 0.0, 2.0, 3.0, 0.0, 0.0, 0.0],\n",
       " [3.0, 1.0, 1.0, 1.0, 0.0, 2.0, 1.0],\n",
       " [3.0, 0.0, 2.0, 0.0, 2.0, 0.0, 0.0],\n",
       " [1.0, 0.0, 2.0, 0.0, 0.0, 0.0, 0.0],\n",
       " [3.0, 1.0, 2.0, 2.0, 0.0, 2.0, 4.0],\n",
       " [1.0, 0.0, 6.0, 2.0, 0.0, 0.0, 0.0],\n",
       " [3.0, 1.0, 3.0, 1.0, 2.0, 2.0, 1.0],\n",
       " [3.0, 0.0, 2.0, 1.0, 0.0, 0.0, 0.0],\n",
       " [2.0, 0.0, 0.0, 3.0, 1.0, 3.0, 2.0],\n",
       " [3.0, 1.0, 1.0, 1.0, 0.0, 1.0, 1.0],\n",
       " [2.0, 0.0, 1.0, 1.0, 0.0, 0.0, 0.0],\n",
       " [1.0, 0.0, 3.0, 0.0, 0.0, 0.0, 0.0],\n",
       " [3.0, 0.0, 2.0, 0.0, 0.0, 0.0, 0.0],\n",
       " [1.0, 1.0, 3.0, 4.0, 0.0, 2.0, 2.0],\n",
       " [3.0, 0.0, 3.0, 1.0, 2.0, 0.0, 2.0],\n",
       " [3.0, 0.0, 0.0, 3.0, 0.0, 3.0, 6.0],\n",
       " [1.0, 1.0, 3.0, 4.0, 0.0, 2.0, 1.0],\n",
       " [1.0, 1.0, 6.0, 4.0, 0.0, 1.0, 1.0],\n",
       " [3.0, 0.0, 2.0, 0.0, 0.0, 0.0, 0.0],\n",
       " [1.0, 1.0, 1.0, 2.0, 0.0, 1.0, 2.0],\n",
       " [3.0, 0.0, 3.0, 1.0, 0.0, 0.0, 2.0],\n",
       " [3.0, 0.0, 3.0, 0.0, 1.0, 0.0, 0.0],\n",
       " [2.0, 0.0, 2.0, 0.0, 0.0, 0.0, 0.0],\n",
       " [3.0, 1.0, 2.0, 0.0, 0.0, 1.0, 0.0],\n",
       " [3.0, 0.0, 1.0, 0.0, 0.0, 0.0, 0.0],\n",
       " [3.0, 1.0, 3.0, 2.0, 1.0, 2.0, 2.0],\n",
       " [1.0, 1.0, 3.0, 4.0, 1.0, 2.0, 0.0],\n",
       " [1.0, 0.0, 5.0, 4.0, 1.0, 0.0, 1.0],\n",
       " [2.0, 1.0, 2.0, 2.0, 0.0, 2.0, 1.0],\n",
       " [1.0, 0.0, 3.0, 4.0, 1.0, 0.0, 0.0],\n",
       " [2.0, 0.0, 0.0, 1.0, 0.0, 0.0, 0.0],\n",
       " [3.0, 0.0, 2.0, 0.0, 1.0, 0.0, 0.0],\n",
       " [2.0, 1.0, 1.0, 1.0, 0.0, 2.0, 2.0],\n",
       " [2.0, 1.0, 2.0, 2.0, 0.0, 2.0, 1.0],\n",
       " [3.0, 1.0, 3.0, 1.0, 0.0, 1.0, 0.0],\n",
       " [3.0, 1.0, 1.0, 0.0, 0.0, 1.0, 0.0],\n",
       " [1.0, 1.0, 0.0, 3.0, 0.0, 1.0, 1.0],\n",
       " [1.0, 0.0, 5.0, 4.0, 1.0, 0.0, 1.0],\n",
       " [3.0, 0.0, 3.0, 0.0, 1.0, 0.0, 0.0],\n",
       " [1.0, 0.0, 3.0, 4.0, 1.0, 0.0, 1.0],\n",
       " [2.0, 0.0, 3.0, 1.0, 0.0, 0.0, 0.0],\n",
       " [3.0, 0.0, 2.0, 0.0, 0.0, 0.0, 0.0],\n",
       " [2.0, 0.0, 4.0, 2.0, 0.0, 0.0, 1.0],\n",
       " [3.0, 1.0, 0.0, 1.0, 0.0, 1.0, 0.0],\n",
       " [1.0, 1.0, 3.0, 4.0, 0.0, 1.0, 0.0],\n",
       " [3.0, 0.0, 0.0, 2.0, 0.0, 3.0, 3.0],\n",
       " [3.0, 1.0, 2.0, 1.0, 0.0, 2.0, 1.0],\n",
       " [3.0, 0.0, 1.0, 0.0, 0.0, 0.0, 0.0],\n",
       " [2.0, 0.0, 1.0, 1.0, 0.0, 0.0, 0.0],\n",
       " [3.0, 1.0, 1.0, 2.0, 2.0, 1.0, 1.0],\n",
       " [2.0, 0.0, 1.0, 1.0, 0.0, 0.0, 0.0],\n",
       " [2.0, 0.0, 1.0, 3.0, 0.0, 0.0, 2.0],\n",
       " [3.0, 1.0, 1.0, 1.0, 0.0, 1.0, 0.0],\n",
       " [3.0, 0.0, 2.0, 2.0, 0.0, 0.0, 0.0],\n",
       " [3.0, 1.0, 4.0, 2.0, 0.0, 2.0, 5.0],\n",
       " [2.0, 1.0, 0.0, 2.0, 0.0, 1.0, 3.0],\n",
       " [1.0, 0.0, 4.0, 2.0, 0.0, 0.0, 0.0],\n",
       " [3.0, 1.0, 1.0, 0.0, 2.0, 1.0, 0.0],\n",
       " [3.0, 0.0, 2.0, 2.0, 2.0, 0.0, 0.0],\n",
       " [3.0, 0.0, 2.0, 0.0, 0.0, 0.0, 0.0],\n",
       " [3.0, 0.0, 0.0, 1.0, 1.0, 3.0, 2.0],\n",
       " [2.0, 0.0, 3.0, 2.0, 0.0, 0.0, 0.0],\n",
       " [3.0, 0.0, 3.0, 0.0, 0.0, 0.0, 0.0],\n",
       " [1.0, 0.0, 2.0, 4.0, 1.0, 0.0, 1.0],\n",
       " [3.0, 0.0, 0.0, 0.0, 0.0, 0.0, 0.0],\n",
       " [3.0, 1.0, 1.0, 0.0, 0.0, 1.0, 0.0],\n",
       " [3.0, 0.0, 2.0, 0.0, 2.0, 0.0, 0.0],\n",
       " [3.0, 1.0, 1.0, 0.0, 2.0, 1.0, 0.0],\n",
       " [3.0, 0.0, 1.0, 1.0, 0.0, 0.0, 0.0],\n",
       " [1.0, 0.0, 5.0, 4.0, 0.0, 0.0, 0.0],\n",
       " [3.0, 0.0, 2.0, 0.0, 0.0, 0.0, 0.0],\n",
       " [2.0, 1.0, 3.0, 1.0, 0.0, 2.0, 1.0],\n",
       " [3.0, 0.0, 2.0, 0.0, 0.0, 0.0, 0.0],\n",
       " [3.0, 1.0, 2.0, 2.0, 0.0, 2.0, 2.0],\n",
       " [3.0, 0.0, 3.0, 1.0, 0.0, 0.0, 2.0],\n",
       " [3.0, 0.0, 0.0, 2.0, 0.0, 0.0, 2.0],\n",
       " [2.0, 1.0, 1.0, 1.0, 0.0, 1.0, 0.0],\n",
       " [3.0, 0.0, 1.0, 0.0, 0.0, 0.0, 0.0],\n",
       " [3.0, 1.0, 2.0, 0.0, 0.0, 1.0, 0.0],\n",
       " [1.0, 0.0, 1.0, 4.0, 1.0, 0.0, 1.0],\n",
       " [3.0, 1.0, 0.0, 3.0, 0.0, 1.0, 6.0],\n",
       " [3.0, 0.0, 1.0, 0.0, 0.0, 0.0, 1.0],\n",
       " [2.0, 0.0, 6.0, 1.0, 0.0, 0.0, 0.0],\n",
       " [3.0, 1.0, 1.0, 0.0, 2.0, 1.0, 0.0],\n",
       " [3.0, 0.0, 2.0, 0.0, 2.0, 0.0, 0.0],\n",
       " [3.0, 1.0, 1.0, 1.0, 1.0, 1.0, 1.0],\n",
       " [1.0, 0.0, 5.0, 4.0, 0.0, 0.0, 1.0],\n",
       " [3.0, 0.0, 1.0, 0.0, 0.0, 0.0, 0.0],\n",
       " [3.0, 0.0, 0.0, 1.0, 1.0, 3.0, 1.0],\n",
       " [1.0, 0.0, 2.0, 2.0, 1.0, 0.0, 0.0],\n",
       " [1.0, 1.0, 3.0, 4.0, 0.0, 2.0, 1.0],\n",
       " [1.0, 0.0, 6.0, 3.0, 0.0, 0.0, 0.0],\n",
       " [2.0, 0.0, 3.0, 2.0, 0.0, 0.0, 3.0],\n",
       " [3.0, 1.0, 2.0, 0.0, 0.0, 1.0, 0.0],\n",
       " [2.0, 0.0, 2.0, 1.0, 0.0, 0.0, 0.0],\n",
       " [3.0, 0.0, 1.0, 0.0, 0.0, 0.0, 0.0],\n",
       " [3.0, 0.0, 1.0, 0.0, 0.0, 0.0, 0.0],\n",
       " [1.0, 1.0, 3.0, 4.0, 1.0, 1.0, 2.0],\n",
       " [2.0, 0.0, 2.0, 1.0, 0.0, 3.0, 0.0],\n",
       " [1.0, 0.0, 5.0, 4.0, 0.0, 0.0, 1.0],\n",
       " [1.0, 0.0, 2.0, 4.0, 0.0, 0.0, 0.0],\n",
       " [3.0, 0.0, 4.0, 0.0, 0.0, 0.0, 0.0],\n",
       " [3.0, 0.0, 2.0, 1.0, 2.0, 0.0, 0.0],\n",
       " [3.0, 1.0, 2.0, 1.0, 0.0, 1.0, 0.0],\n",
       " [1.0, 0.0, 6.0, 2.0, 0.0, 0.0, 0.0],\n",
       " [3.0, 1.0, 2.0, 1.0, 0.0, 2.0, 2.0],\n",
       " [1.0, 1.0, 3.0, 4.0, 1.0, 2.0, 2.0],\n",
       " [3.0, 0.0, 2.0, 1.0, 0.0, 0.0, 0.0],\n",
       " [1.0, 1.0, 3.0, 4.0, 1.0, 2.0, 1.0],\n",
       " [2.0, 1.0, 4.0, 2.0, 0.0, 2.0, 2.0],\n",
       " [1.0, 1.0, 1.0, 4.0, 0.0, 1.0, 5.0],\n",
       " [3.0, 1.0, 2.0, 1.0, 2.0, 2.0, 2.0],\n",
       " [3.0, 0.0, 1.0, 0.0, 0.0, 0.0, 0.0],\n",
       " [2.0, 1.0, 2.0, 2.0, 0.0, 2.0, 1.0],\n",
       " [3.0, 1.0, 0.0, 1.0, 1.0, 1.0, 2.0],\n",
       " [3.0, 0.0, 3.0, 0.0, 0.0, 0.0, 0.0],\n",
       " [3.0, 1.0, 1.0, 4.0, 0.0, 1.0, 10.0],\n",
       " [2.0, 0.0, 0.0, 3.0, 0.0, 3.0, 3.0],\n",
       " [1.0, 0.0, 2.0, 4.0, 0.0, 0.0, 1.0],\n",
       " [3.0, 0.0, 1.0, 0.0, 1.0, 0.0, 0.0],\n",
       " [2.0, 1.0, 4.0, 2.0, 0.0, 2.0, 1.0],\n",
       " [3.0, 0.0, 2.0, 0.0, 1.0, 0.0, 0.0],\n",
       " [2.0, 0.0, 2.0, 3.0, 1.0, 0.0, 2.0],\n",
       " [2.0, 1.0, 5.0, 1.0, 0.0, 2.0, 0.0],\n",
       " [1.0, 0.0, 2.0, 4.0, 0.0, 0.0, 1.0],\n",
       " [2.0, 0.0, 1.0, 1.0, 0.0, 0.0, 0.0],\n",
       " [2.0, 1.0, 5.0, 2.0, 0.0, 2.0, 4.0],\n",
       " [1.0, 1.0, 1.0, 4.0, 1.0, 1.0, 1.0],\n",
       " [2.0, 1.0, 0.0, 3.0, 0.0, 1.0, 3.0],\n",
       " [3.0, 1.0, 1.0, 0.0, 0.0, 1.0, 0.0],\n",
       " [3.0, 0.0, 2.0, 0.0, 0.0, 0.0, 0.0],\n",
       " [3.0, 0.0, 2.0, 1.0, 1.0, 0.0, 1.0],\n",
       " [2.0, 0.0, 0.0, 3.0, 0.0, 3.0, 2.0],\n",
       " [2.0, 1.0, 2.0, 1.0, 2.0, 1.0, 0.0],\n",
       " [3.0, 0.0, 0.0, 0.0, 1.0, 0.0, 2.0],\n",
       " [2.0, 1.0, 0.0, 2.0, 0.0, 1.0, 2.0],\n",
       " [2.0, 0.0, 2.0, 2.0, 1.0, 0.0, 1.0],\n",
       " [3.0, 1.0, 3.0, 2.0, 0.0, 2.0, 2.0],\n",
       " [2.0, 0.0, 2.0, 1.0, 0.0, 0.0, 0.0],\n",
       " [3.0, 0.0, 3.0, 0.0, 0.0, 0.0, 0.0],\n",
       " [3.0, 0.0, 2.0, 1.0, 0.0, 0.0, 0.0],\n",
       " [3.0, 0.0, 2.0, 0.0, 0.0, 0.0, 0.0],\n",
       " [2.0, 0.0, 3.0, 1.0, 0.0, 3.0, 0.0],\n",
       " [3.0, 1.0, 1.0, 0.0, 2.0, 1.0, 0.0],\n",
       " [1.0, 1.0, 3.0, 4.0, 0.0, 1.0, 0.0],\n",
       " [2.0, 0.0, 1.0, 1.0, 1.0, 0.0, 0.0],\n",
       " [2.0, 0.0, 2.0, 0.0, 0.0, 0.0, 0.0],\n",
       " [2.0, 0.0, 3.0, 1.0, 1.0, 0.0, 0.0],\n",
       " [1.0, 1.0, 4.0, 4.0, 1.0, 2.0, 1.0],\n",
       " [3.0, 0.0, 2.0, 0.0, 1.0, 0.0, 0.0],\n",
       " [3.0, 0.0, 6.0, 0.0, 0.0, 0.0, 0.0],\n",
       " [3.0, 0.0, 2.0, 0.0, 2.0, 0.0, 0.0],\n",
       " [3.0, 1.0, 1.0, 0.0, 2.0, 1.0, 0.0],\n",
       " [2.0, 1.0, 3.0, 1.0, 0.0, 1.0, 0.0],\n",
       " [1.0, 1.0, 5.0, 2.0, 0.0, 2.0, 0.0],\n",
       " [1.0, 1.0, 1.0, 4.0, 0.0, 1.0, 1.0],\n",
       " [1.0, 1.0, 5.0, 4.0, 1.0, 2.0, 1.0],\n",
       " [2.0, 1.0, 2.0, 1.0, 0.0, 3.0, 0.0],\n",
       " [3.0, 1.0, 2.0, 1.0, 1.0, 2.0, 2.0],\n",
       " [1.0, 1.0, 1.0, 4.0, 0.0, 2.0, 1.0],\n",
       " [3.0, 1.0, 1.0, 2.0, 0.0, 1.0, 4.0],\n",
       " [3.0, 0.0, 3.0, 0.0, 0.0, 0.0, 0.0],\n",
       " [2.0, 1.0, 1.0, 2.0, 0.0, 1.0, 0.0],\n",
       " [3.0, 1.0, 1.0, 1.0, 0.0, 1.0, 2.0],\n",
       " [1.0, 0.0, 3.0, 2.0, 0.0, 0.0, 0.0],\n",
       " [3.0, 0.0, 1.0, 1.0, 1.0, 0.0, 2.0],\n",
       " [2.0, 1.0, 3.0, 2.0, 0.0, 2.0, 1.0],\n",
       " [1.0, 0.0, 3.0, 0.0, 0.0, 0.0, 0.0],\n",
       " [3.0, 1.0, 3.0, 1.0, 1.0, 2.0, 1.0],\n",
       " [3.0, 0.0, 2.0, 0.0, 0.0, 0.0, 0.0],\n",
       " [2.0, 1.0, 2.0, 1.0, 0.0, 2.0, 0.0],\n",
       " [3.0, 0.0, 2.0, 1.0, 0.0, 0.0, 0.0],\n",
       " [3.0, 0.0, 1.0, 0.0, 0.0, 0.0, 0.0],\n",
       " [2.0, 0.0, 0.0, 1.0, 0.0, 3.0, 2.0],\n",
       " [1.0, 1.0, 3.0, 4.0, 1.0, 2.0, 1.0],\n",
       " [3.0, 0.0, 2.0, 0.0, 1.0, 0.0, 0.0],\n",
       " [3.0, 1.0, 0.0, 2.0, 0.0, 1.0, 4.0],\n",
       " [2.0, 1.0, 6.0, 1.0, 0.0, 2.0, 0.0],\n",
       " [1.0, 1.0, 2.0, 4.0, 0.0, 1.0, 2.0],\n",
       " [3.0, 0.0, 2.0, 2.0, 2.0, 0.0, 1.0],\n",
       " [2.0, 1.0, 1.0, 4.0, 0.0, 1.0, 3.0],\n",
       " [2.0, 0.0, 0.0, 1.0, 0.0, 3.0, 2.0],\n",
       " [1.0, 0.0, 2.0, 4.0, 0.0, 0.0, 0.0],\n",
       " [1.0, 0.0, 1.0, 4.0, 1.0, 0.0, 1.0],\n",
       " [1.0, 0.0, 3.0, 2.0, 1.0, 0.0, 1.0],\n",
       " [1.0, 1.0, 3.0, 4.0, 0.0, 2.0, 1.0],\n",
       " [1.0, 1.0, 6.0, 4.0, 0.0, 2.0, 0.0],\n",
       " [1.0, 1.0, 2.0, 4.0, 0.0, 1.0, 0.0],\n",
       " [2.0, 1.0, 0.0, 1.0, 0.0, 1.0, 1.0],\n",
       " [3.0, 0.0, 2.0, 4.0, 0.0, 0.0, 0.0],\n",
       " [3.0, 0.0, 2.0, 0.0, 0.0, 0.0, 0.0],\n",
       " [2.0, 0.0, 5.0, 1.0, 0.0, 3.0, 0.0],\n",
       " [1.0, 0.0, 2.0, 3.0, 0.0, 0.0, 0.0],\n",
       " [1.0, 0.0, 2.0, 4.0, 1.0, 0.0, 0.0],\n",
       " [3.0, 1.0, 0.0, 1.0, 0.0, 1.0, 2.0],\n",
       " [3.0, 1.0, 3.0, 3.0, 0.0, 2.0, 5.0],\n",
       " [2.0, 1.0, 3.0, 2.0, 0.0, 2.0, 1.0],\n",
       " [1.0, 1.0, 2.0, 4.0, 0.0, 1.0, 0.0],\n",
       " [3.0, 0.0, 1.0, 0.0, 0.0, 0.0, 0.0],\n",
       " [3.0, 0.0, 2.0, 0.0, 1.0, 0.0, 0.0],\n",
       " [3.0, 0.0, 1.0, 0.0, 0.0, 0.0, 0.0],\n",
       " [3.0, 0.0, 1.0, 0.0, 0.0, 0.0, 0.0],\n",
       " [3.0, 1.0, 0.0, 3.0, 0.0, 1.0, 6.0],\n",
       " [1.0, 1.0, 3.0, 4.0, 1.0, 1.0, 0.0],\n",
       " [1.0, 1.0, 3.0, 4.0, 1.0, 1.0, 0.0],\n",
       " [1.0, 1.0, 3.0, 4.0, 0.0, 1.0, 2.0],\n",
       " [3.0, 1.0, 0.0, 2.0, 0.0, 1.0, 2.0],\n",
       " [1.0, 1.0, 5.0, 4.0, 1.0, 2.0, 1.0],\n",
       " [3.0, 1.0, 1.0, 0.0, 2.0, 1.0, 0.0],\n",
       " [1.0, 0.0, 6.0, 4.0, 1.0, 0.0, 2.0],\n",
       " [3.0, 1.0, 0.0, 2.0, 0.0, 1.0, 2.0],\n",
       " [1.0, 1.0, 5.0, 4.0, 1.0, 2.0, 1.0],\n",
       " [1.0, 1.0, 3.0, 4.0, 1.0, 2.0, 2.0],\n",
       " [2.0, 0.0, 2.0, 1.0, 0.0, 0.0, 0.0],\n",
       " [2.0, 1.0, 1.0, 1.0, 1.0, 1.0, 0.0],\n",
       " [1.0, 0.0, 2.0, 2.0, 1.0, 0.0, 0.0],\n",
       " [3.0, 1.0, 1.0, 0.0, 2.0, 1.0, 0.0],\n",
       " [2.0, 0.0, 5.0, 1.0, 0.0, 0.0, 0.0],\n",
       " [1.0, 0.0, 2.0, 4.0, 0.0, 0.0, 0.0],\n",
       " [3.0, 0.0, 0.0, 3.0, 0.0, 3.0, 5.0],\n",
       " [3.0, 0.0, 1.0, 0.0, 0.0, 0.0, 0.0],\n",
       " [3.0, 0.0, 2.0, 0.0, 0.0, 0.0, 0.0],\n",
       " [3.0, 0.0, 2.0, 0.0, 0.0, 0.0, 0.0],\n",
       " [1.0, 1.0, 3.0, 4.0, 0.0, 1.0, 0.0],\n",
       " [3.0, 0.0, 4.0, 0.0, 1.0, 0.0, 0.0],\n",
       " [3.0, 1.0, 3.0, 1.0, 0.0, 2.0, 1.0],\n",
       " [3.0, 0.0, 2.0, 0.0, 0.0, 0.0, 0.0],\n",
       " [3.0, 0.0, 0.0, 4.0, 0.0, 3.0, 7.0],\n",
       " [3.0, 1.0, 0.0, 3.0, 0.0, 1.0, 6.0],\n",
       " [3.0, 0.0, 2.0, 1.0, 1.0, 0.0, 1.0],\n",
       " [3.0, 1.0, 1.0, 0.0, 2.0, 1.0, 0.0],\n",
       " [2.0, 0.0, 6.0, 1.0, 0.0, 0.0, 0.0],\n",
       " [1.0, 0.0, 5.0, 2.0, 0.0, 0.0, 0.0],\n",
       " [3.0, 0.0, 5.0, 0.0, 0.0, 0.0, 0.0],\n",
       " [3.0, 0.0, 2.0, 0.0, 0.0, 0.0, 0.0],\n",
       " [2.0, 1.0, 3.0, 1.0, 0.0, 1.0, 0.0],\n",
       " [3.0, 0.0, 2.0, 1.0, 0.0, 0.0, 1.0],\n",
       " [1.0, 0.0, 5.0, 3.0, 1.0, 3.0, 0.0],\n",
       " [3.0, 0.0, 2.0, 0.0, 0.0, 0.0, 0.0],\n",
       " [2.0, 1.0, 3.0, 1.0, 0.0, 1.0, 0.0],\n",
       " [3.0, 0.0, 2.0, 0.0, 2.0, 0.0, 0.0],\n",
       " [3.0, 0.0, 1.0, 0.0, 0.0, 0.0, 0.0],\n",
       " [3.0, 0.0, 1.0, 0.0, 0.0, 0.0, 0.0],\n",
       " [3.0, 0.0, 2.0, 0.0, 0.0, 0.0, 0.0],\n",
       " [3.0, 0.0, 2.0, 0.0, 0.0, 0.0, 0.0],\n",
       " [3.0, 0.0, 2.0, 1.0, 0.0, 0.0, 0.0],\n",
       " [3.0, 0.0, 3.0, 0.0, 0.0, 0.0, 0.0],\n",
       " [3.0, 0.0, 2.0, 0.0, 2.0, 0.0, 0.0],\n",
       " [3.0, 0.0, 2.0, 1.0, 2.0, 0.0, 1.0],\n",
       " [1.0, 1.0, 1.0, 4.0, 1.0, 3.0, 0.0],\n",
       " [3.0, 1.0, 1.0, 0.0, 0.0, 1.0, 0.0],\n",
       " [3.0, 0.0, 3.0, 2.0, 0.0, 0.0, 2.0],\n",
       " [3.0, 0.0, 4.0, 0.0, 0.0, 0.0, 0.0],\n",
       " [3.0, 0.0, 3.0, 2.0, 0.0, 0.0, 5.0],\n",
       " [3.0, 0.0, 2.0, 0.0, 2.0, 0.0, 0.0],\n",
       " [3.0, 0.0, 2.0, 0.0, 0.0, 0.0, 0.0],\n",
       " [1.0, 0.0, 3.0, 4.0, 0.0, 0.0, 1.0],\n",
       " [2.0, 1.0, 2.0, 1.0, 1.0, 1.0, 1.0],\n",
       " [1.0, 0.0, 6.0, 4.0, 0.0, 3.0, 2.0],\n",
       " [1.0, 0.0, 0.0, 4.0, 0.0, 3.0, 2.0],\n",
       " [1.0, 1.0, 1.0, 4.0, 0.0, 1.0, 5.0],\n",
       " [2.0, 1.0, 2.0, 2.0, 0.0, 2.0, 2.0],\n",
       " [3.0, 1.0, 2.0, 0.0, 0.0, 1.0, 0.0],\n",
       " [3.0, 1.0, 3.0, 0.0, 1.0, 2.0, 0.0],\n",
       " [2.0, 1.0, 2.0, 2.0, 1.0, 2.0, 1.0],\n",
       " [1.0, 0.0, 6.0, 2.0, 0.0, 0.0, 0.0],\n",
       " [2.0, 1.0, 3.0, 1.0, 0.0, 2.0, 0.0],\n",
       " [3.0, 0.0, 1.0, 0.0, 0.0, 0.0, 0.0],\n",
       " [2.0, 0.0, 2.0, 4.0, 0.0, 0.0, 2.0],\n",
       " [3.0, 0.0, 1.0, 0.0, 0.0, 0.0, 0.0],\n",
       " [2.0, 1.0, 3.0, 1.0, 0.0, 2.0, 0.0],\n",
       " [2.0, 0.0, 6.0, 1.0, 0.0, 0.0, 0.0],\n",
       " [3.0, 1.0, 0.0, 1.0, 1.0, 1.0, 1.0],\n",
       " [3.0, 1.0, 1.0, 2.0, 0.0, 1.0, 3.0],\n",
       " [3.0, 0.0, 2.0, 0.0, 0.0, 0.0, 0.0],\n",
       " [3.0, 0.0, 2.0, 0.0, 0.0, 0.0, 0.0],\n",
       " [3.0, 0.0, 3.0, 0.0, 1.0, 0.0, 0.0],\n",
       " [1.0, 1.0, 4.0, 2.0, 1.0, 2.0, 0.0],\n",
       " [1.0, 1.0, 1.0, 4.0, 1.0, 1.0, 4.0],\n",
       " [2.0, 0.0, 1.0, 1.0, 0.0, 0.0, 0.0],\n",
       " [1.0, 0.0, 2.0, 2.0, 0.0, 0.0, 0.0],\n",
       " [3.0, 0.0, 2.0, 0.0, 0.0, 0.0, 0.0],\n",
       " [3.0, 0.0, 2.0, 0.0, 0.0, 0.0, 2.0],\n",
       " [3.0, 1.0, 0.0, 1.0, 1.0, 1.0, 1.0],\n",
       " [3.0, 0.0, 0.0, 4.0, 0.0, 3.0, 7.0],\n",
       " [2.0, 0.0, 2.0, 0.0, 0.0, 0.0, 0.0],\n",
       " [2.0, 1.0, 1.0, 1.0, 0.0, 1.0, 0.0],\n",
       " [3.0, 0.0, 2.0, 0.0, 0.0, 0.0, 0.0],\n",
       " [2.0, 0.0, 5.0, 1.0, 0.0, 0.0, 0.0],\n",
       " [3.0, 1.0, 3.0, 0.0, 1.0, 2.0, 0.0],\n",
       " [2.0, 0.0, 1.0, 4.0, 0.0, 0.0, 2.0],\n",
       " [3.0, 1.0, 1.0, 0.0, 0.0, 1.0, 6.0],\n",
       " [1.0, 0.0, 1.0, 4.0, 1.0, 0.0, 2.0],\n",
       " [3.0, 0.0, 2.0, 2.0, 0.0, 0.0, 3.0],\n",
       " [3.0, 0.0, 2.0, 4.0, 0.0, 0.0, 10.0],\n",
       " [2.0, 1.0, 2.0, 1.0, 0.0, 1.0, 0.0],\n",
       " [3.0, 0.0, 3.0, 1.0, 0.0, 0.0, 2.0],\n",
       " [3.0, 1.0, 3.0, 1.0, 1.0, 2.0, 2.0],\n",
       " [2.0, 0.0, 2.0, 3.0, 0.0, 3.0, 1.0],\n",
       " [3.0, 1.0, 1.0, 0.0, 2.0, 1.0, 0.0],\n",
       " [2.0, 1.0, 1.0, 1.0, 2.0, 1.0, 0.0],\n",
       " [2.0, 1.0, 1.0, 2.0, 0.0, 2.0, 2.0],\n",
       " [1.0, 0.0, 6.0, 4.0, 1.0, 0.0, 2.0],\n",
       " [3.0, 0.0, 4.0, 0.0, 0.0, 0.0, 0.0],\n",
       " [3.0, 0.0, 0.0, 3.0, 0.0, 3.0, 5.0],\n",
       " [3.0, 1.0, 0.0, 0.0, 2.0, 1.0, 0.0],\n",
       " [1.0, 0.0, 2.0, 2.0, 1.0, 0.0, 0.0],\n",
       " [3.0, 0.0, 0.0, 0.0, 1.0, 3.0, 1.0],\n",
       " [1.0, 1.0, 0.0, 4.0, 0.0, 1.0, 3.0],\n",
       " [3.0, 0.0, 3.0, 2.0, 0.0, 0.0, 0.0],\n",
       " [3.0, 1.0, 1.0, 1.0, 0.0, 1.0, 0.0],\n",
       " [3.0, 0.0, 3.0, 1.0, 0.0, 0.0, 1.0],\n",
       " [3.0, 0.0, 1.0, 0.0, 0.0, 0.0, 0.0],\n",
       " [3.0, 0.0, 1.0, 2.0, 0.0, 0.0, 2.0],\n",
       " [3.0, 0.0, 1.0, 0.0, 0.0, 0.0, 0.0],\n",
       " [3.0, 0.0, 2.0, 0.0, 0.0, 0.0, 0.0],\n",
       " [3.0, 0.0, 2.0, 0.0, 0.0, 0.0, 0.0],\n",
       " [3.0, 1.0, 5.0, 3.0, 0.0, 2.0, 4.0],\n",
       " [3.0, 0.0, 1.0, 0.0, 0.0, 0.0, 0.0],\n",
       " [3.0, 0.0, 2.0, 2.0, 1.0, 0.0, 2.0],\n",
       " [3.0, 0.0, 2.0, 0.0, 2.0, 0.0, 0.0],\n",
       " [1.0, 1.0, 3.0, 4.0, 0.0, 3.0, 0.0],\n",
       " [3.0, 1.0, 4.0, 0.0, 0.0, 1.0, 0.0],\n",
       " [3.0, 1.0, 0.0, 1.0, 1.0, 2.0, 1.0],\n",
       " [1.0, 1.0, 6.0, 4.0, 1.0, 2.0, 1.0],\n",
       " [3.0, 0.0, 2.0, 0.0, 0.0, 0.0, 0.0],\n",
       " [2.0, 0.0, 2.0, 1.0, 0.0, 0.0, 0.0],\n",
       " [3.0, 0.0, 3.0, 0.0, 0.0, 0.0, 0.0],\n",
       " [2.0, 0.0, 2.0, 1.0, 0.0, 0.0, 0.0],\n",
       " [2.0, 0.0, 3.0, 1.0, 0.0, 0.0, 0.0],\n",
       " [3.0, 0.0, 2.0, 0.0, 0.0, 0.0, 0.0],\n",
       " [1.0, 0.0, 6.0, 2.0, 0.0, 3.0, 0.0],\n",
       " [3.0, 0.0, 0.0, 3.0, 0.0, 0.0, 5.0],\n",
       " [3.0, 1.0, 0.0, 0.0, 1.0, 1.0, 0.0],\n",
       " [3.0, 0.0, 0.0, 4.0, 0.0, 0.0, 7.0],\n",
       " [3.0, 0.0, 2.0, 0.0, 1.0, 0.0, 0.0],\n",
       " [1.0, 1.0, 1.0, 4.0, 1.0, 3.0, 0.0],\n",
       " [1.0, 0.0, 5.0, 4.0, 1.0, 0.0, 1.0],\n",
       " [2.0, 0.0, 2.0, 0.0, 0.0, 0.0, 0.0],\n",
       " [2.0, 1.0, 3.0, 1.0, 0.0, 2.0, 0.0],\n",
       " [3.0, 1.0, 3.0, 1.0, 0.0, 2.0, 1.0],\n",
       " [3.0, 1.0, 2.0, 0.0, 0.0, 1.0, 0.0],\n",
       " [2.0, 0.0, 2.0, 1.0, 0.0, 0.0, 0.0],\n",
       " [3.0, 0.0, 2.0, 0.0, 0.0, 0.0, 0.0],\n",
       " [2.0, 1.0, 1.0, 2.0, 0.0, 2.0, 1.0],\n",
       " [3.0, 0.0, 4.0, 0.0, 0.0, 0.0, 0.0],\n",
       " [3.0, 0.0, 0.0, 1.0, 1.0, 3.0, 2.0],\n",
       " [3.0, 0.0, 4.0, 0.0, 0.0, 0.0, 0.0],\n",
       " [3.0, 0.0, 2.0, 0.0, 0.0, 0.0, 0.0],\n",
       " [3.0, 0.0, 2.0, 0.0, 0.0, 0.0, 0.0],\n",
       " [1.0, 0.0, 2.0, 2.0, 0.0, 0.0, 0.0],\n",
       " [3.0, 0.0, 1.0, 0.0, 0.0, 0.0, 0.0],\n",
       " [2.0, 0.0, 1.0, 1.0, 0.0, 0.0, 0.0],\n",
       " [2.0, 0.0, 2.0, 1.0, 0.0, 0.0, 0.0],\n",
       " [3.0, 1.0, 4.0, 4.0, 0.0, 2.0, 7.0],\n",
       " [3.0, 0.0, 4.0, 1.0, 0.0, 0.0, 1.0],\n",
       " [3.0, 1.0, 2.0, 1.0, 0.0, 2.0, 1.0],\n",
       " [1.0, 0.0, 3.0, 2.0, 0.0, 0.0, 0.0],\n",
       " [1.0, 1.0, 5.0, 4.0, 1.0, 1.0, 1.0],\n",
       " [3.0, 0.0, 3.0, 2.0, 0.0, 0.0, 2.0],\n",
       " [2.0, 1.0, 2.0, 1.0, 0.0, 1.0, 0.0],\n",
       " [1.0, 0.0, 4.0, 4.0, 0.0, 0.0, 1.0],\n",
       " [2.0, 0.0, 3.0, 2.0, 0.0, 0.0, 1.0],\n",
       " [3.0, 1.0, 0.0, 2.0, 0.0, 1.0, 5.0],\n",
       " [3.0, 0.0, 0.0, 3.0, 0.0, 3.0, 6.0],\n",
       " [3.0, 0.0, 1.0, 1.0, 0.0, 0.0, 0.0],\n",
       " [2.0, 0.0, 2.0, 2.0, 0.0, 0.0, 1.0],\n",
       " [3.0, 0.0, 3.0, 0.0, 0.0, 0.0, 0.0],\n",
       " [3.0, 0.0, 2.0, 1.0, 0.0, 0.0, 1.0],\n",
       " [3.0, 0.0, 3.0, 0.0, 0.0, 0.0, 0.0],\n",
       " [1.0, 0.0, 2.0, 2.0, 0.0, 0.0, 0.0],\n",
       " [2.0, 0.0, 0.0, 2.0, 0.0, 3.0, 2.0],\n",
       " [3.0, 1.0, 1.0, 0.0, 0.0, 1.0, 0.0],\n",
       " [2.0, 1.0, 2.0, 2.0, 0.0, 1.0, 2.0],\n",
       " [3.0, 0.0, 1.0, 0.0, 0.0, 0.0, 1.0],\n",
       " [3.0, 0.0, 1.0, 0.0, 0.0, 0.0, 0.0],\n",
       " [3.0, 0.0, 3.0, 0.0, 0.0, 0.0, 0.0],\n",
       " [2.0, 0.0, 5.0, 1.0, 0.0, 3.0, 0.0],\n",
       " [2.0, 0.0, 5.0, 2.0, 0.0, 3.0, 1.0],\n",
       " [1.0, 1.0, 2.0, 4.0, 1.0, 1.0, 0.0],\n",
       " [3.0, 1.0, 2.0, 0.0, 2.0, 1.0, 0.0],\n",
       " [1.0, 1.0, 5.0, 4.0, 0.0, 2.0, 2.0],\n",
       " [3.0, 0.0, 2.0, 0.0, 0.0, 0.0, 1.0],\n",
       " [3.0, 0.0, 2.0, 0.0, 0.0, 0.0, 0.0],\n",
       " [1.0, 1.0, 1.0, 2.0, 0.0, 1.0, 0.0],\n",
       " [3.0, 1.0, 0.0, 1.0, 1.0, 1.0, 1.0],\n",
       " [3.0, 1.0, 1.0, 1.0, 0.0, 1.0, 1.0],\n",
       " [3.0, 1.0, 1.0, 0.0, 0.0, 1.0, 0.0],\n",
       " [2.0, 1.0, 3.0, 2.0, 0.0, 2.0, 3.0],\n",
       " [2.0, 0.0, 2.0, 4.0, 1.0, 0.0, 3.0],\n",
       " [1.0, 1.0, 3.0, 4.0, 1.0, 1.0, 0.0],\n",
       " [3.0, 0.0, 1.0, 0.0, 0.0, 0.0, 0.0],\n",
       " [3.0, 1.0, 3.0, 1.0, 0.0, 2.0, 1.0],\n",
       " [3.0, 0.0, 1.0, 0.0, 0.0, 0.0, 0.0],\n",
       " [3.0, 0.0, 0.0, 1.0, 0.0, 3.0, 2.0],\n",
       " [3.0, 1.0, 1.0, 2.0, 2.0, 1.0, 2.0],\n",
       " [3.0, 0.0, 2.0, 2.0, 2.0, 0.0, 2.0],\n",
       " [1.0, 1.0, 3.0, 4.0, 1.0, 2.0, 1.0]]"
      ]
     },
     "execution_count": 80,
     "metadata": {
      "tags": []
     },
     "output_type": "execute_result"
    }
   ],
   "source": [
    "X_train"
   ]
  },
  {
   "cell_type": "code",
   "execution_count": 81,
   "metadata": {
    "colab": {
     "base_uri": "https://localhost:8080/"
    },
    "id": "HcK79CJrHqEt",
    "outputId": "68d8ce8f-06c2-4f86-91fc-3c032262b9af"
   },
   "outputs": [
    {
     "data": {
      "text/plain": [
       "610    0\n",
       "802    1\n",
       "855    1\n",
       "310    1\n",
       "822    0\n",
       "      ..\n",
       "623    0\n",
       "348    1\n",
       "330    1\n",
       "301    1\n",
       "849    1\n",
       "Name: Survived, Length: 712, dtype: int64"
      ]
     },
     "execution_count": 81,
     "metadata": {
      "tags": []
     },
     "output_type": "execute_result"
    }
   ],
   "source": [
    "y_train"
   ]
  },
  {
   "cell_type": "code",
   "execution_count": 82,
   "metadata": {
    "id": "6XLPLRHxGw_e"
   },
   "outputs": [],
   "source": [
    "X_train = torch.FloatTensor(X_train) \n",
    "X_test = torch.FloatTensor(X_test)\n",
    "y_train = torch.LongTensor(y_train)\n",
    "y_test = torch.LongTensor(y_test)"
   ]
  },
  {
   "cell_type": "code",
   "execution_count": 83,
   "metadata": {
    "colab": {
     "base_uri": "https://localhost:8080/"
    },
    "id": "p978Sm49INcZ",
    "outputId": "9d5193e3-9d91-4421-e7e9-0ab2cd889cf7"
   },
   "outputs": [
    {
     "name": "stdout",
     "output_type": "stream",
     "text": [
      "tensor([[3., 1., 3.,  ..., 0., 2., 6.],\n",
      "        [1., 0., 0.,  ..., 0., 3., 3.],\n",
      "        [3., 1., 1.,  ..., 0., 2., 1.],\n",
      "        ...,\n",
      "        [3., 1., 1.,  ..., 2., 1., 2.],\n",
      "        [3., 0., 2.,  ..., 2., 0., 2.],\n",
      "        [1., 1., 3.,  ..., 1., 2., 1.]])\n",
      "tensor([[3., 0., 3.,  ..., 1., 0., 0.],\n",
      "        [1., 0., 2.,  ..., 0., 0., 0.],\n",
      "        [1., 0., 0.,  ..., 1., 3., 0.],\n",
      "        ...,\n",
      "        [3., 0., 2.,  ..., 0., 0., 2.],\n",
      "        [3., 0., 1.,  ..., 0., 0., 0.],\n",
      "        [1., 1., 2.,  ..., 0., 1., 0.]])\n",
      "tensor([0, 1, 1, 1, 0, 0, 1, 1, 1, 0, 0, 0, 1, 0, 0, 1, 0, 0, 0, 0, 1, 0, 0, 0,\n",
      "        0, 1, 0, 1, 1, 0, 0, 0, 0, 0, 1, 0, 1, 1, 0, 0, 1, 1, 0, 0, 1, 1, 0, 1,\n",
      "        0, 0, 1, 0, 0, 0, 0, 0, 0, 0, 0, 0, 0, 0, 1, 0, 1, 1, 1, 1, 1, 1, 0, 0,\n",
      "        0, 1, 0, 1, 0, 0, 0, 0, 1, 1, 0, 0, 0, 0, 0, 0, 0, 0, 0, 0, 0, 0, 1, 1,\n",
      "        0, 1, 0, 1, 0, 1, 1, 0, 1, 1, 0, 0, 1, 0, 0, 0, 0, 1, 0, 1, 0, 1, 0, 0,\n",
      "        0, 0, 0, 0, 0, 0, 0, 0, 1, 1, 0, 1, 1, 1, 0, 0, 1, 0, 0, 0, 0, 0, 0, 0,\n",
      "        0, 1, 1, 0, 0, 1, 0, 1, 0, 1, 0, 0, 0, 0, 0, 0, 0, 0, 0, 1, 1, 0, 0, 1,\n",
      "        1, 1, 0, 0, 0, 0, 1, 0, 1, 1, 1, 0, 0, 1, 0, 0, 0, 0, 1, 0, 1, 0, 0, 0,\n",
      "        0, 0, 1, 1, 1, 0, 1, 1, 0, 0, 1, 0, 1, 1, 0, 1, 0, 1, 0, 0, 0, 0, 1, 0,\n",
      "        1, 0, 0, 0, 1, 0, 0, 0, 1, 1, 0, 0, 1, 0, 0, 0, 0, 0, 0, 0, 0, 0, 0, 0,\n",
      "        0, 1, 1, 1, 0, 0, 0, 0, 0, 1, 0, 0, 1, 0, 0, 0, 1, 0, 0, 0, 0, 1, 0, 0,\n",
      "        0, 0, 1, 0, 0, 0, 0, 0, 0, 0, 1, 1, 0, 1, 1, 1, 0, 1, 0, 0, 1, 0, 0, 1,\n",
      "        0, 0, 1, 0, 1, 0, 1, 1, 1, 0, 0, 1, 0, 0, 1, 1, 0, 0, 0, 0, 1, 1, 1, 0,\n",
      "        0, 1, 1, 0, 1, 0, 0, 0, 1, 0, 1, 0, 0, 0, 1, 1, 0, 0, 1, 1, 0, 1, 0, 0,\n",
      "        0, 0, 0, 1, 1, 1, 1, 1, 0, 0, 1, 0, 0, 1, 1, 0, 0, 1, 0, 0, 0, 1, 1, 1,\n",
      "        0, 0, 0, 1, 0, 0, 1, 0, 0, 1, 1, 1, 0, 0, 1, 0, 0, 1, 0, 1, 0, 1, 0, 0,\n",
      "        1, 1, 0, 0, 0, 0, 1, 0, 1, 0, 0, 0, 0, 1, 0, 0, 1, 1, 1, 0, 1, 0, 0, 0,\n",
      "        0, 0, 0, 1, 0, 0, 0, 0, 0, 1, 0, 1, 1, 1, 1, 1, 1, 0, 0, 1, 0, 0, 0, 1,\n",
      "        0, 1, 0, 0, 0, 1, 0, 0, 1, 1, 1, 0, 0, 0, 1, 1, 0, 1, 0, 1, 0, 0, 0, 0,\n",
      "        0, 0, 1, 0, 0, 0, 1, 0, 0, 0, 0, 0, 1, 1, 1, 1, 1, 1, 0, 0, 1, 0, 1, 1,\n",
      "        1, 0, 0, 0, 1, 0, 0, 1, 1, 0, 0, 0, 1, 0, 1, 1, 0, 0, 0, 1, 1, 1, 1, 1,\n",
      "        0, 0, 1, 0, 1, 0, 1, 1, 0, 1, 0, 0, 0, 1, 1, 1, 1, 1, 1, 1, 0, 1, 1, 0,\n",
      "        1, 1, 1, 0, 0, 0, 0, 1, 0, 1, 0, 1, 0, 0, 1, 0, 1, 1, 1, 0, 0, 1, 0, 1,\n",
      "        1, 1, 0, 0, 0, 0, 0, 0, 0, 0, 0, 1, 1, 0, 0, 0, 0, 0, 1, 1, 0, 1, 1, 1,\n",
      "        1, 1, 1, 1, 1, 0, 0, 0, 1, 0, 1, 0, 0, 0, 0, 1, 1, 0, 1, 0, 0, 1, 0, 0,\n",
      "        0, 0, 0, 1, 0, 1, 1, 0, 0, 1, 0, 0, 0, 1, 1, 1, 0, 0, 0, 1, 0, 1, 0, 0,\n",
      "        0, 0, 0, 0, 0, 0, 0, 0, 0, 0, 0, 1, 0, 1, 1, 1, 0, 0, 0, 0, 0, 0, 0, 1,\n",
      "        0, 0, 1, 1, 0, 1, 0, 0, 0, 0, 1, 0, 1, 0, 0, 0, 0, 0, 1, 0, 0, 0, 1, 1,\n",
      "        1, 0, 1, 0, 0, 0, 0, 0, 0, 0, 0, 0, 0, 1, 1, 1, 0, 0, 0, 0, 0, 1, 0, 1,\n",
      "        1, 0, 1, 0, 0, 0, 1, 0, 1, 1, 1, 0, 1, 1, 1, 1])\n",
      "tensor([0, 1, 0, 1, 1, 0, 0, 0, 1, 0, 0, 0, 0, 1, 1, 1, 0, 1, 0, 1, 1, 1, 1, 1,\n",
      "        0, 1, 1, 1, 0, 0, 0, 1, 1, 1, 0, 0, 0, 1, 1, 1, 0, 1, 0, 1, 0, 0, 0, 0,\n",
      "        0, 0, 0, 1, 1, 0, 1, 0, 0, 1, 0, 1, 0, 0, 0, 1, 1, 0, 1, 0, 0, 0, 0, 0,\n",
      "        0, 0, 1, 0, 1, 0, 1, 0, 0, 0, 0, 0, 0, 0, 0, 0, 1, 0, 0, 0, 1, 0, 1, 0,\n",
      "        0, 1, 0, 0, 1, 0, 0, 0, 0, 1, 0, 0, 0, 1, 0, 1, 0, 1, 0, 1, 0, 0, 0, 1,\n",
      "        1, 0, 1, 0, 0, 0, 1, 1, 0, 0, 0, 0, 0, 0, 0, 1, 1, 1, 0, 1, 0, 0, 1, 0,\n",
      "        0, 1, 0, 1, 1, 0, 0, 0, 1, 0, 0, 0, 0, 0, 1, 1, 0, 0, 0, 0, 1, 0, 0, 0,\n",
      "        1, 0, 0, 0, 1, 0, 0, 0, 0, 0, 1])\n"
     ]
    }
   ],
   "source": [
    "print(X_train)\n",
    "print(X_test)\n",
    "print(y_train)\n",
    "print(y_test)"
   ]
  },
  {
   "cell_type": "markdown",
   "metadata": {
    "id": "NnU7X1wRty6v"
   },
   "source": [
    "#6. Make NN class with Forward Function"
   ]
  },
  {
   "cell_type": "code",
   "execution_count": 84,
   "metadata": {
    "id": "NyCWL7QliGN9"
   },
   "outputs": [],
   "source": [
    "class NeuralNet(nn.Module):\n",
    "  def __init__(self, input_size, hidden_size, num_classes):\n",
    "    super(NeuralNet,self).__init__()\n",
    "    self.net = nn.Sequential(\n",
    "        nn.Linear(input_size, hidden_size),\n",
    "        nn.ReLU(),\n",
    "        nn.Linear(hidden_size,num_classes)\n",
    "    )\n",
    "  def forward(self, x):\n",
    "    return self.net(x)"
   ]
  },
  {
   "cell_type": "markdown",
   "metadata": {
    "id": "8VoulY2bty_Y"
   },
   "source": [
    "#7. Generate Model, loss_function, optimizer"
   ]
  },
  {
   "cell_type": "code",
   "execution_count": 85,
   "metadata": {
    "id": "4HYbAzqw612b"
   },
   "outputs": [],
   "source": [
    "model = NeuralNet(input_size, hidden_size, num_classes).to(device) # (특성갯수, 히든레이어 갯수, 라벨 갯수)\n",
    "loss_function = nn.CrossEntropyLoss() # 여기안에 softmax(), -log(x), R(x)가 내장되어있다. 바로 모델의 loss값을 알수 있다.\n",
    "optimizer = torch.optim.Adam(model.parameters(), lr=learning_rate) # Adam을 사용해서 테스트를 진행. parameters로 모델의 w, b를 알 수 있다."
   ]
  },
  {
   "cell_type": "markdown",
   "metadata": {
    "id": "kS7cI-K0tzKy"
   },
   "source": [
    "#8. Learn Model "
   ]
  },
  {
   "cell_type": "code",
   "execution_count": 86,
   "metadata": {
    "colab": {
     "base_uri": "https://localhost:8080/"
    },
    "id": "fBxT4mZo62zJ",
    "outputId": "e15da6e1-84ad-43c8-fa57-43b7ad83a8de"
   },
   "outputs": [
    {
     "data": {
      "text/plain": [
       "712"
      ]
     },
     "execution_count": 86,
     "metadata": {
      "tags": []
     },
     "output_type": "execute_result"
    }
   ],
   "source": [
    "total_step = len(X_train)\n",
    "total_step"
   ]
  },
  {
   "cell_type": "code",
   "execution_count": 87,
   "metadata": {
    "id": "TeUCxwLmItzK"
   },
   "outputs": [],
   "source": [
    "import numpy as np"
   ]
  },
  {
   "cell_type": "code",
   "execution_count": 88,
   "metadata": {
    "id": "rN396kOLJxeD"
   },
   "outputs": [],
   "source": [
    "X_train = np.array(X_train)"
   ]
  },
  {
   "cell_type": "code",
   "execution_count": 89,
   "metadata": {
    "colab": {
     "base_uri": "https://localhost:8080/"
    },
    "id": "FezG_oI1J3ME",
    "outputId": "8b90bfae-0db4-4f71-b61e-517e982c4480"
   },
   "outputs": [
    {
     "data": {
      "text/plain": [
       "array([[3., 1., 3., ..., 0., 2., 6.],\n",
       "       [1., 0., 0., ..., 0., 3., 3.],\n",
       "       [3., 1., 1., ..., 0., 2., 1.],\n",
       "       ...,\n",
       "       [3., 1., 1., ..., 2., 1., 2.],\n",
       "       [3., 0., 2., ..., 2., 0., 2.],\n",
       "       [1., 1., 3., ..., 1., 2., 1.]], dtype=float32)"
      ]
     },
     "execution_count": 89,
     "metadata": {
      "tags": []
     },
     "output_type": "execute_result"
    }
   ],
   "source": [
    "X_train"
   ]
  },
  {
   "cell_type": "code",
   "execution_count": 90,
   "metadata": {
    "id": "K_VGfvTnKBDL"
   },
   "outputs": [],
   "source": [
    "X_train = torch.from_numpy(X_train)"
   ]
  },
  {
   "cell_type": "code",
   "execution_count": 91,
   "metadata": {
    "colab": {
     "base_uri": "https://localhost:8080/"
    },
    "id": "wVx7evmnKGol",
    "outputId": "cc89862f-3b3a-47fd-9154-e5817c316262"
   },
   "outputs": [
    {
     "data": {
      "text/plain": [
       "tensor([[3., 1., 3.,  ..., 0., 2., 6.],\n",
       "        [1., 0., 0.,  ..., 0., 3., 3.],\n",
       "        [3., 1., 1.,  ..., 0., 2., 1.],\n",
       "        ...,\n",
       "        [3., 1., 1.,  ..., 2., 1., 2.],\n",
       "        [3., 0., 2.,  ..., 2., 0., 2.],\n",
       "        [1., 1., 3.,  ..., 1., 2., 1.]])"
      ]
     },
     "execution_count": 91,
     "metadata": {
      "tags": []
     },
     "output_type": "execute_result"
    }
   ],
   "source": [
    "X_train"
   ]
  },
  {
   "cell_type": "code",
   "execution_count": 92,
   "metadata": {
    "colab": {
     "base_uri": "https://localhost:8080/"
    },
    "id": "VpiT4w1894r-",
    "outputId": "a2d9f4df-614f-42c9-ef42-5e59ed17b098"
   },
   "outputs": [
    {
     "name": "stdout",
     "output_type": "stream",
     "text": [
      "[100/1000], Step[100/712], Loss[0.3319]\n",
      "[200/1000], Step[200/712], Loss[0.2915]\n",
      "[300/1000], Step[300/712], Loss[0.2665]\n",
      "[400/1000], Step[400/712], Loss[0.2479]\n",
      "[500/1000], Step[500/712], Loss[0.2364]\n",
      "[600/1000], Step[600/712], Loss[0.2326]\n",
      "[700/1000], Step[700/712], Loss[0.2293]\n",
      "[800/1000], Step[800/712], Loss[0.2284]\n",
      "[900/1000], Step[900/712], Loss[0.2252]\n",
      "[1000/1000], Step[1000/712], Loss[0.2235]\n"
     ]
    }
   ],
   "source": [
    "collect = 0\n",
    "total = 0\n",
    "loss_list = []\n",
    "for epoch in range(num_epochs):\n",
    "\n",
    "    # 2. 100개의 image를 모델에 넣어서 output 변수로 prediction(예측값)값을 가져온다.\n",
    "    outputs = model(X_train.to(device))\n",
    "\n",
    "    # 3, loss_function에 넣어서 모델의 사진 마다의 loss값을 추출한다.\n",
    "    loss = loss_function(outputs, y_train.to(device)) # batch_size가 100개에 대한 loss값 100개 가 나온다.\n",
    "    \n",
    "    # 4. optimizer을 사용하기위하여 초기화를 시켜준다. 또한 위에 선언된 Adam방법을 가지고 계산을 시작할 준비를 한다.\n",
    "    optimizer.zero_grad()\n",
    "\n",
    "    # 5. loss위 3번에서 추출된 loss값을 back Propagation으로 W값과 bias값을 재 선언해준다.\n",
    "    loss.backward() # backward 함수는 autograd 를 사용하여 자동으로 정의된다.\n",
    "\n",
    "    # 6. 위의 5번에서 재선언된 loss값을 가지고 step을 밟아 경사하강을 진행한다. 즉, Adam Gradient descent의 연산으로 경사하강한다.\n",
    "    optimizer.step() # 재선언된 W와 b를 매개변수로 받고 있으므로, 위의 5번에서 재 선언된 w와 b를 가지고 연산해서 하강하게된다.\n",
    "\n",
    "    loss_list.append(loss.item())\n",
    "    \n",
    "    # 7. loss값을 잘 알아보기 위해서 epoch마다 print해본다. \n",
    "    if (epoch+1)% 100 == 0:\n",
    "      # print(loss.item())\n",
    "      print(f'[{epoch+1}/{num_epochs}], Step[{epoch+1}/{total_step}], Loss[{loss.item():.4f}]')\n"
   ]
  },
  {
   "cell_type": "code",
   "execution_count": 93,
   "metadata": {
    "colab": {
     "base_uri": "https://localhost:8080/",
     "height": 279
    },
    "id": "zttOvpkE9qQW",
    "outputId": "8e0c2c72-4324-49a7-a653-12a231902938"
   },
   "outputs": [
    {
     "data": {
      "image/png": "[encoded data removed]",
      "text/plain": [
       "<Figure size 432x288 with 1 Axes>"
      ]
     },
     "metadata": {
      "needs_background": "light",
      "tags": []
     },
     "output_type": "display_data"
    }
   ],
   "source": [
    "plt.plot(loss_list)\n",
    "plt.xlabel('epoch')\n",
    "plt.ylabel('loss')\n",
    "plt.show()"
   ]
  },
  {
   "cell_type": "markdown",
   "metadata": {
    "id": "RUYEehuXuumq"
   },
   "source": [
    "#9. Test Model"
   ]
  },
  {
   "cell_type": "code",
   "execution_count": 107,
   "metadata": {
    "colab": {
     "base_uri": "https://localhost:8080/"
    },
    "id": "jOhkR33S63GP",
    "outputId": "af34bc3e-0b36-4ef3-ccaf-af4059b53070"
   },
   "outputs": [
    {
     "name": "stdout",
     "output_type": "stream",
     "text": [
      "예측값, 정답 출력\n",
      "0) 0,0\n",
      "1) 1,1\n",
      "2) 0,1\n",
      "3) 1,0\n",
      "4) 1,1\n",
      "5) 0,1\n",
      "6) 0,0\n",
      "7) 0,1\n",
      "8) 1,1\n",
      "9) 0,0\n",
      "10) 0,0\n",
      "11) 0,0\n",
      "12) 0,0\n",
      "13) 1,1\n",
      "14) 1,1\n",
      "15) 1,0\n",
      "16) 0,0\n",
      "17) 1,1\n",
      "18) 0,1\n",
      "19) 1,0\n",
      "20) 1,1\n",
      "21) 1,1\n",
      "22) 1,1\n",
      "23) 1,1\n",
      "24) 0,0\n",
      "25) 1,1\n",
      "26) 1,0\n",
      "27) 1,1\n",
      "28) 0,0\n",
      "29) 0,0\n",
      "179개의 Test 데이타 중에서 정답을 맞춘 갯수는 140 개 입니다!!\n",
      "78.2%\n"
     ]
    }
   ],
   "source": [
    "with torch.no_grad(): \n",
    "    # Write Code!!   \n",
    "    \n",
    "    out = model(X_test.to(device))\n",
    "    \n",
    "    _, pred = torch.max(out,1)\n",
    "    score = sum(pred == y_test.to(device)).item() # item()은 값이 하나 일때만 가능하다.\n",
    "    print('예측값, 정답 출력')\n",
    "    for i in range(len(y_test)):\n",
    "        print(f'{i}) {y_test[i]},{pred[i]}')\n",
    "        \n",
    "    print(f'{len(y_test)}개의 Test 데이타 중에서 정답을 맞춘 갯수는 {score} 개 입니다!!')\n",
    "    print(f'{round(score/len(y_test),3)*100}%')"
   ]
  }
 ],
 "metadata": {
  "accelerator": "GPU",
  "colab": {
   "collapsed_sections": [],
   "name": "01_DL_FCN_Titanic.ipynb",
   "provenance": []
  },
  "kernelspec": {
   "display_name": "Python 3",
   "language": "python",
   "name": "python3"
  },
  "language_info": {
   "codemirror_mode": {
    "name": "ipython",
    "version": 3
   },
   "file_extension": ".py",
   "mimetype": "text/x-python",
   "name": "python",
   "nbconvert_exporter": "python",
   "pygments_lexer": "ipython3",
   "version": "3.8.5"
  }
 },
 "nbformat": 4,
 "nbformat_minor": 1
}
